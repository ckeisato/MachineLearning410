{
 "cells": [
  {
   "cell_type": "markdown",
   "metadata": {},
   "source": [
    "# Homework 8\n",
    "\n",
    "## CSCI E-82A\n",
    "\n",
    "\n",
    "In the a previous homework assignments, you used two different dynamic programming algorithms and Monte Carlo reinforcement learning to solve a robot navigation problem by finding optimal paths to a goal in a simplified warehouse environment. Now you will use time differencing reinforcement learning to find optimal paths in the same environment."
   ]
  },
  {
   "cell_type": "markdown",
   "metadata": {},
   "source": [
    "The configuration of the warehouse environment is illustrated in the figure below.\n",
    "\n",
    "<img src=\"GridWorldFactory.JPG\" alt=\"Drawing\" style=\"width:200px; height:200px\"/>\n",
    "<center> **Grid World for Factory Navigation Example** </center>\n",
    "\n",
    "The goal is for the robot to deliver some material to position (state) 12, shown in blue. Since there is a goal state or **terminal state** this an **episodic task**. \n",
    "\n",
    "There are some barriers comprised of the states $\\{ 6, 7, 8 \\}$ and $\\{ 16, 17, 18 \\}$, shown with hash marks. In a real warehouse, these positions might be occupied by shelving or equipment. We do not want the robot to hit these barriers. Thus, we say that transitioning to these barrier states is **taboo**.\n",
    "\n",
    "As before, we do not want the robot to hit the edges of the grid world, which represent the outer walls of the warehouse. \n",
    "\n",
    "## Representation\n",
    "\n",
    "You are, no doubt, familiar with the representation for this problem by now.    \n",
    "\n",
    "As with many such problems, the starting place is creating the **representation**. In the cell below encode your representation for the possible action-state transitions. From each state there are 4 possible actions:\n",
    "- up, u\n",
    "- down, d,\n",
    "- left, l\n",
    "- right, r\n",
    "\n",
    "There are a few special cases you need to consider:\n",
    "- Any action transitioning state off the grid or into a barrier should keep the state unchanged. \n",
    "- Any action in the goal state keeps the state unchanged. \n",
    "- Any transition within the taboo (barrier) states can keep the state unchanged. If you experiment, you will see that other encodings work as well since the value of a barrier states are always zero and there are no actions transitioning into these states. \n",
    "\n",
    "> **Hint:** It may help you create a pencil and paper sketch of the transitions, rewards, and probabilities or policy. This can help you to keep the bookkeeping correct. "
   ]
  },
  {
   "cell_type": "code",
   "execution_count": 1,
   "metadata": {},
   "outputs": [],
   "source": [
    "## import numpy for latter\n",
    "import numpy as np\n",
    "import numpy.random as nr\n",
    "\n",
    "## Define the transition dictonary of dictionaries:\n",
    "neighbors = {\n",
    "    0:{'u':0, 'd':5, 'l':0, 'r':1},\n",
    "    1:{'u':1, 'd':1, 'l':0, 'r':2},\n",
    "    2:{'u':2, 'd':2, 'l':1, 'r':3},\n",
    "    3:{'u':3, 'd':3, 'l':2, 'r':4},\n",
    "    4:{'u':4, 'd':9, 'l':3, 'r':4},\n",
    "    5:{'u':0, 'd':10, 'l':5, 'r':5},\n",
    "    6:{'u':6, 'd':6, 'l':6, 'r':6},\n",
    "    7:{'u':7, 'd':7, 'l':7, 'r':7},\n",
    "    8:{'u':8, 'd':8, 'l':8, 'r':8},\n",
    "    9:{'u':4, 'd':14, 'l':9, 'r':9},\n",
    "    10:{'u':5, 'd':15, 'l':10, 'r':11},\n",
    "    11:{'u':11, 'd':11, 'l':10, 'r':12},\n",
    "    12:{'u':12, 'd':12, 'l':12, 'r':12},\n",
    "    13:{'u':13, 'd':13, 'l':12, 'r':14},\n",
    "    14:{'u':9, 'd':19, 'l':13, 'r':14},\n",
    "    15:{'u':10, 'd':20, 'l':15, 'r':15},\n",
    "    16:{'u':16, 'd':16, 'l':16, 'r':16},\n",
    "    17:{'u':17, 'd':17, 'l':17, 'r':17},\n",
    "    18:{'u':18, 'd':18, 'l':18, 'r':18},\n",
    "    19:{'u':14, 'd':24, 'l':19, 'r':19},\n",
    "    20:{'u':15, 'd':20, 'l':20, 'r':21},\n",
    "    21:{'u':21, 'd':21, 'l':20, 'r':22},\n",
    "    22:{'u':22, 'd':22, 'l':21, 'r':23},\n",
    "    23:{'u':23, 'd':23, 'l':22, 'r':24},\n",
    "    24:{'u':19, 'd':24, 'l':23, 'r':24}\n",
    "}\n"
   ]
  },
  {
   "cell_type": "markdown",
   "metadata": {},
   "source": [
    "You need to define the initial transition probabilities for the Markov process. Set the probabilities for each transition as a **uniform distribution** leading to random action by the robot. \n",
    "\n",
    "> **Note:** As these are just starting values, the exact values of the transition probabilities are not actually all that important in terms of solving the RL problem. Also, notice that it does not matter how the taboo state transitions are encoded. The point of the DP algorithm is to learn the transition policy."
   ]
  },
  {
   "cell_type": "code",
   "execution_count": 2,
   "metadata": {},
   "outputs": [],
   "source": [
    "initial_policy = {\n",
    "    0:{'u':0.25, 'd':0.25, 'l':0.25, 'r':0.25},\n",
    "    1:{'u':0.25, 'd':0.25, 'l':0.25, 'r':0.25},\n",
    "    2:{'u':0.25, 'd':0.25, 'l':0.25, 'r':0.25},\n",
    "    3:{'u':0.25, 'd':0.25, 'l':0.25, 'r':0.25},\n",
    "    4:{'u':0.25, 'd':0.25, 'l':0.25, 'r':0.25},\n",
    "    5:{'u':0.25, 'd':0.25, 'l':0.25, 'r':0.25},\n",
    "    6:{'u':0.25, 'd':0.25, 'l':0.25, 'r':0.25},\n",
    "    7:{'u':0.25, 'd':0.25, 'l':0.25, 'r':0.25},\n",
    "    8:{'u':0.25, 'd':0.25, 'l':0.25, 'r':0.25},\n",
    "    9:{'u':0.25, 'd':0.25, 'l':0.25, 'r':0.25},\n",
    "    10:{'u':0.25, 'd':0.25, 'l':0.25, 'r':0.25},\n",
    "    11:{'u':0.25, 'd':0.25, 'l':0.25, 'r':0.25},\n",
    "    12:{'u':0.25, 'd':0.25, 'l':0.25, 'r':0.25},\n",
    "    13:{'u':0.25, 'd':0.25, 'l':0.25, 'r':0.25},\n",
    "    14:{'u':0.25, 'd':0.25, 'l':0.25, 'r':0.25},\n",
    "    15:{'u':0.25, 'd':0.25, 'l':0.25, 'r':0.25},\n",
    "    16:{'u':0.25, 'd':0.25, 'l':0.25, 'r':0.25},\n",
    "    17:{'u':0.25, 'd':0.25, 'l':0.25, 'r':0.25},\n",
    "    18:{'u':0.25, 'd':0.25, 'l':0.25, 'r':0.25},\n",
    "    19:{'u':0.25, 'd':0.25, 'l':0.25, 'r':0.25},\n",
    "    20:{'u':0.25, 'd':0.25, 'l':0.25, 'r':0.25},\n",
    "    21:{'u':0.25, 'd':0.25, 'l':0.25, 'r':0.25},\n",
    "    22:{'u':0.25, 'd':0.25, 'l':0.25, 'r':0.25},\n",
    "    23:{'u':0.25, 'd':0.25, 'l':0.25, 'r':0.25},\n",
    "    24:{'u':0.25, 'd':0.25, 'l':0.25, 'r':0.25}\n",
    "}"
   ]
  },
  {
   "cell_type": "markdown",
   "metadata": {},
   "source": [
    "The robot receives the following rewards:\n",
    "- 10 for entering position 0. \n",
    "- -1 for attempting to leave the grid. In other words, we penalize the robot for hitting the edges of the grid.  \n",
    "- -0.1 for all other state transitions, which is the cost for the robot to move from one state to another. If we did not have this penalty, the robot could follow any random plan to the goal which did not hit the edges. \n",
    "\n",
    "This **reward structure is unknown to the MC RL agent**. The agent must **learn** the rewards by sampling the environment. \n",
    "\n",
    "In the code cell below encode your representation of this reward structure you will use in your simulated environment.  "
   ]
  },
  {
   "cell_type": "code",
   "execution_count": 12,
   "metadata": {},
   "outputs": [],
   "source": [
    "rewards = {\n",
    "    0:{'u':-1.0, 'd':-0.1, 'l':-1.0, 'r':-0.1},\n",
    "    1:{'u':-1.0, 'd':-1.0, 'l':-0.1, 'r':-0.1},\n",
    "    2:{'u':-1.0, 'd':-1.0, 'l':-0.1, 'r':-0.1},\n",
    "    3:{'u':-1.0, 'd':-1.0, 'l':-0.1, 'r':-0.1},\n",
    "    4:{'u':-1.0, 'd':-0.1, 'l':-0.1, 'r':-1.0},\n",
    "    5:{'u':-0.1, 'd':-0.1, 'l':-1.0, 'r':-1.0},\n",
    "    6:{'u':0, 'd':0, 'l':0, 'r':0},\n",
    "    7:{'u':0, 'd':0, 'l':0, 'r':0},\n",
    "    8:{'u':0, 'd':0, 'l':0, 'r':0},\n",
    "    9:{'u':-0.1, 'd':-0.1, 'l':-1.0, 'r':-1.0},\n",
    "    10:{'u':-0.1, 'd':-0.1, 'l':-1.0, 'r':-0.1},\n",
    "    11:{'u':-1.0, 'd':-1.0, 'l':-0.1, 'r':10.0},\n",
    "    12:{'u':-0.1, 'd':-0.1, 'l':-0.1, 'r':-0.1},\n",
    "    13:{'u':-1.0, 'd':-1.0, 'l':10.0, 'r':-0.1},\n",
    "    14:{'u':-0.1, 'd':-0.1, 'l':-0.1, 'r':-1.0},\n",
    "    15:{'u':-0.1, 'd':-0.1, 'l':-1.0, 'r':-1.0},\n",
    "    16:{'u':0, 'd':0, 'l':0, 'r':0},\n",
    "    17:{'u':0, 'd':0, 'l':0, 'r':0},\n",
    "    18:{'u':0, 'd':0, 'l':0, 'r':0},\n",
    "    19:{'u':-0.1, 'd':-0.1, 'l':-1.0, 'r':-1.0},\n",
    "    20:{'u':-0.1, 'd':-1.0, 'l':-1.0, 'r':-0.1},\n",
    "    21:{'u':-1.0, 'd':-1.0, 'l':-0.1, 'r':-0.1},\n",
    "    22:{'u':-1.0, 'd':-1.0, 'l':-0.1, 'r':-0.1},\n",
    "    23:{'u':-1.0, 'd':-1.0, 'l':-0.1, 'r':-0.1},\n",
    "    24:{'u':-0.1, 'd':-1.0, 'l':-0.1, 'r':-1.0}\n",
    "}"
   ]
  },
  {
   "cell_type": "markdown",
   "metadata": {},
   "source": [
    "You will find it useful to create a list of taboo states, which you can encode in the cell below."
   ]
  },
  {
   "cell_type": "code",
   "execution_count": 13,
   "metadata": {},
   "outputs": [],
   "source": [
    "taboo_states = [6, 7, 8, 16, 17, 18]"
   ]
  },
  {
   "cell_type": "markdown",
   "metadata": {},
   "source": [
    "## TD(0) Policy Evaluation\n",
    "\n",
    "With your representations defined, you can now create and test functions to perform TD(0) **policy evaluation**. \n",
    "\n",
    "As a first step you will need a function to find the rewards and next state given a state and an action. You are welcome to start with the `state_values` function from the TD/Q-learning notebook. However, keep in mind that you must modify this code to correctly treat the taboo states of the barrier. Specifically, taboo states should not be visited. \n",
    "\n",
    "Execute your code to test it for each possible action from state 11.  "
   ]
  },
  {
   "cell_type": "code",
   "execution_count": 59,
   "metadata": {
    "scrolled": false
   },
   "outputs": [
    {
     "name": "stdout",
     "output_type": "stream",
     "text": [
      "(11, -1.0, False)\n",
      "(11, -1.0, False)\n",
      "(12, 10.0, True)\n",
      "(10, -0.1, False)\n"
     ]
    }
   ],
   "source": [
    "def is_terminal(state, terminal = 12):\n",
    "    return state == terminal\n",
    "\n",
    "def simulate_environment(s, action, neighbors = neighbors, rewards = rewards, terminal = 12):\n",
    "    \"\"\"\n",
    "    Function simulates the environment\n",
    "    returns s_prime and reward given s and action\n",
    "    \"\"\"\n",
    "    s_prime = neighbors[s][action]\n",
    "    reward = rewards[s][action]\n",
    "    if s_prime in taboo_states:\n",
    "        return (s, reward, is_terminal(s_prime, terminal))\n",
    "    return (s_prime, reward, is_terminal(s_prime, terminal))\n",
    "\n",
    "def take_action(state, policy, actions = {1:'u', 2:'d', 3:'l', 4:'r'}):\n",
    "    '''Function takes action given state using the transition probabilities \n",
    "    of the policy'''\n",
    "    ## Find the action given the transistion probabilities defined by the policy.\n",
    "    action = actions[nr.choice(range(len(actions)), p = list(policy[state].values())) + 1]\n",
    "    s_prime, reward, terminal = simulate_environment(state, action)\n",
    "    return (action, s_prime, reward, terminal)\n",
    "\n",
    "def start_episode(n_states):\n",
    "    '''Function to find a random starting value for the episode\n",
    "    that is not the terminal state'''\n",
    "    state = nr.choice(range(n_states))\n",
    "    while(is_terminal(state)):\n",
    "         state = nr.choice(range(n_states))\n",
    "    return state\n",
    "\n",
    "## Test the function\n",
    "for a in ['u', 'd', 'r', 'l']:\n",
    "    print(simulate_environment(11, a))"
   ]
  },
  {
   "cell_type": "markdown",
   "metadata": {},
   "source": [
    "Examine your results. Are the action values consistent with the transitions?\n",
    "\n",
    "ANS: Yes"
   ]
  },
  {
   "cell_type": "markdown",
   "metadata": {},
   "source": [
    "Next, you need to create a function to compute the state values using the TD(0) algorithm. You should use the function you just created  to find the rewards and next state given a state and action. You are welcome to use the `td_0_state_values` function from the TD/Q-learning notebook as a starting point.  \n",
    "\n",
    "Execute your function for 1,000 episodes and examine the results."
   ]
  },
  {
   "cell_type": "code",
   "execution_count": 17,
   "metadata": {
    "scrolled": false
   },
   "outputs": [
    {
     "data": {
      "text/plain": [
       "array([[-2.11298857, -2.69493576, -4.06199696, -4.95187605, -5.51164639],\n",
       "       [-2.36984144,  0.        ,  0.        ,  0.        , -6.31973592],\n",
       "       [-1.59650548,  0.1685708 ,  0.        ,  1.13512359, -5.85371637],\n",
       "       [-5.38161712,  0.        ,  0.        ,  0.        , -6.06572107],\n",
       "       [-6.53519092, -6.68745708, -6.13152667, -7.14603132, -6.89412719]])"
      ]
     },
     "execution_count": 17,
     "metadata": {},
     "output_type": "execute_result"
    }
   ],
   "source": [
    "def td_0_state_values(policy, n_samps, alpha = 0.2, gamma = 1.0):\n",
    "    \"\"\"\n",
    "    Function for TD(0) policy evalutation\n",
    "    \"\"\"\n",
    "    \n",
    "    ## Find the starting state\n",
    "    n_states = len(policy)\n",
    "    current_state = start_episode(n_states)\n",
    "    terminal = False\n",
    "    \n",
    "    ## Array for state values\n",
    "    v = np.zeros((n_states,1))\n",
    "    \n",
    "    for _ in range(n_samps):\n",
    "        ## Find the next action and reward\n",
    "        action, s_prime, reward, terminal = take_action(current_state, policy)\n",
    "        ## Compute the TD error\n",
    "        delta = reward + gamma*v[s_prime] - v[current_state]\n",
    "        ## Update the state value\n",
    "        v[current_state] = v[current_state] + alpha*delta\n",
    "        current_state = s_prime\n",
    "        if(terminal): ## start new episode when terminal\n",
    "            current_state = start_episode(n_states)\n",
    "    return(v)\n",
    "\n",
    "td_0_state_values(initial_policy, 1000).reshape((5,5))"
   ]
  },
  {
   "cell_type": "markdown",
   "metadata": {},
   "source": [
    "Examine your results and answer the following questions to ensure you action value function operates correctly:\n",
    "1. Are the values of the taboo states 0? ANS: Yes\n",
    "2. Are the states with the highest values adjacent to the terminal state? ANS: Yes\n",
    "3. Are the values of the states decreasing as the distance from the terminal state increases? ANS: Yes"
   ]
  },
  {
   "cell_type": "markdown",
   "metadata": {},
   "source": [
    "\n",
    "## SARSA(0) Policy Improvement\n",
    "\n",
    "Now you will perform policy improvement using the SARSA(0) algorithm.  You are welcome to start with the `select_a_prime` and `SARSA_0` functions from the TD/Q-learning notebooks.    \n",
    "\n",
    "Execute your code for 1,000 episodes, and with $\\alpha = 0.2$, and $\\epsilon = 0.1$)"
   ]
  },
  {
   "cell_type": "code",
   "execution_count": 18,
   "metadata": {
    "scrolled": false
   },
   "outputs": [
    {
     "name": "stdout",
     "output_type": "stream",
     "text": [
      "          up      down      left     right\n",
      "0  -0.601052 -0.095120 -0.749984 -0.108255\n",
      "1  -0.975878 -0.952827 -0.108519 -0.090009\n",
      "2  -0.944542 -0.958043 -0.136251 -0.131267\n",
      "3  -0.936148 -0.958093 -0.138476 -0.103460\n",
      "4  -0.766544 -0.078062 -0.142218 -0.990357\n",
      "5  -0.075067 -0.098458 -0.592158 -0.686579\n",
      "6   0.000000  0.000000  0.000000  0.000000\n",
      "7   0.000000  0.000000  0.000000  0.000000\n",
      "8   0.000000  0.000000  0.000000  0.000000\n",
      "9  -0.119885 -0.052492 -0.201830 -0.362769\n",
      "10 -0.083666 -0.118514 -0.676893 -0.083824\n",
      "11 -0.160000 -0.643520 -0.093821  2.000000\n",
      "12  0.000000  0.000000  0.000000  0.000000\n",
      "13  0.000000  0.000000  0.000000  0.000000\n",
      "14 -0.079114 -0.127502  0.000000  0.000000\n",
      "15 -0.098677 -0.160497 -0.954474 -0.964053\n",
      "16  0.000000  0.000000  0.000000  0.000000\n",
      "17  0.000000  0.000000  0.000000  0.000000\n",
      "18  0.000000  0.000000  0.000000  0.000000\n",
      "19 -0.097474 -0.112514 -0.767749 -0.932107\n",
      "20 -0.158985 -1.059054 -1.029213 -0.334186\n",
      "21 -0.909169 -0.602799 -0.132456 -0.104770\n",
      "22 -0.916465 -0.986636 -0.106410 -0.118093\n",
      "23 -0.990735 -0.960112 -0.119639 -0.129396\n",
      "24 -0.107993 -0.984925 -0.142209 -0.882777\n"
     ]
    }
   ],
   "source": [
    "import pandas as pd\n",
    "\n",
    "def print_Q(Q):\n",
    "    Q = pd.DataFrame(Q, columns = ['up', 'down', 'left', 'right'])\n",
    "    print(Q)\n",
    "\n",
    "def new_episode(n_states, policy):\n",
    "    '''This function provides a start for a TD\n",
    "    episode making sure the first transition is not \n",
    "    the termnal state'''\n",
    "    current_state = start_episode(n_states)\n",
    "    ## Find fist action and reward\n",
    "    action, s_prime, reward, terminal = take_action(current_state, policy)\n",
    "    return(current_state, action, s_prime, reward, terminal)    \n",
    "\n",
    "\n",
    "def SARSA_0(policy, n_samps, alpha = 0.1, gamma = 0.9, action_index = {'u':0, 'd':1, 'l':2, 'r':3}):\n",
    "    \"\"\"\n",
    "    Function for TD(0) policy evalutation\n",
    "    \"\"\"\n",
    "    \n",
    "    ## Find the starting state\n",
    "    n_states = len(policy)\n",
    "    current_state, action, s_prime, reward, terminal = new_episode(n_states, policy)\n",
    "    action_idx = action_index[action]\n",
    "    \n",
    "    ## Array for state values\n",
    "    q = np.zeros((n_states, len(policy[0])))\n",
    "    \n",
    "    for _ in range(n_samps):\n",
    "        ## Find the next action and reward\n",
    "        action_prime, s_prime_prime, reward_prime, terminal_prime = take_action(s_prime, policy)\n",
    "        action_idx_prime = action_index[action_prime]\n",
    "        ## Compute the TD error\n",
    "        delta = reward + gamma*q[s_prime, action_idx_prime] - q[current_state, action_idx]\n",
    "        ## Update the action values\n",
    "        q[current_state, action_idx] = q[current_state, action_idx] + alpha*delta\n",
    "        ## Update the state, action and reward for the next time step\n",
    "        current_state = s_prime\n",
    "        s_prime = s_prime_prime\n",
    "        action = action_prime\n",
    "        reward = reward_prime\n",
    "        terminal = terminal_prime\n",
    "        action_idx = action_idx_prime\n",
    "\n",
    "        ## Check if end of episode\n",
    "        if(terminal): \n",
    "            ## start new episode\n",
    "            current_state, action, s_prime, reward, terminal = new_episode(n_states, policy)        \n",
    "    return(q)\n",
    "\n",
    "\n",
    "Q = SARSA_0(initial_policy, 1000, alpha = 0.2, gamma = 0.1)\n",
    "print_Q(Q)"
   ]
  },
  {
   "cell_type": "markdown",
   "metadata": {},
   "source": [
    "Examine the action values you have computed. Ensure that the action values are 0 for the goal and taboo states. Also check that the actions with the largest values for each state make sense in terms of reaching the goal. "
   ]
  },
  {
   "cell_type": "markdown",
   "metadata": {},
   "source": [
    "With the action value function completed, you will now create and test code to perform GPI with SARSA(0).  You are welcome to use the `SRASA_0_GPI` function from the TD/Q-learning notebook as a starting point. \n",
    "\n",
    "Execute your code for 10 cycles of 100 episodes, with $\\alpha = 0.2$, $\\gamma = 0.9$ and $\\epsilon = 0.01$, and examine the results."
   ]
  },
  {
   "cell_type": "code",
   "execution_count": 36,
   "metadata": {},
   "outputs": [
    {
     "name": "stdout",
     "output_type": "stream",
     "text": [
      "{'u': 0.01, 'd': 0.01, 'l': 0.97, 'r': 0.01}\n",
      "{'u': 0.01, 'd': 0.01, 'l': 0.97, 'r': 0.01}\n",
      "{'u': 0.01, 'd': 0.01, 'l': 0.97, 'r': 0.01}\n",
      "{'u': 0.01, 'd': 0.01, 'l': 0.97, 'r': 0.01}\n",
      "{'u': 0.01, 'd': 0.01, 'l': 0.97, 'r': 0.01}\n",
      "{'u': 0.01, 'd': 0.49, 'l': 0.49, 'r': 0.01}\n",
      "{'u': 0.25, 'd': 0.25, 'l': 0.25, 'r': 0.25}\n",
      "{'u': 0.25, 'd': 0.25, 'l': 0.25, 'r': 0.25}\n",
      "{'u': 0.25, 'd': 0.25, 'l': 0.25, 'r': 0.25}\n",
      "{'u': 0.01, 'd': 0.01, 'l': 0.01, 'r': 0.97}\n",
      "{'u': 0.25, 'd': 0.25, 'l': 0.25, 'r': 0.25}\n",
      "{'u': 0.25, 'd': 0.25, 'l': 0.25, 'r': 0.25}\n",
      "{'u': 0.25, 'd': 0.25, 'l': 0.25, 'r': 0.25}\n",
      "{'u': 0.25, 'd': 0.25, 'l': 0.25, 'r': 0.25}\n",
      "{'u': 0.01, 'd': 0.01, 'l': 0.97, 'r': 0.01}\n",
      "{'u': 0.33, 'd': 0.01, 'l': 0.33, 'r': 0.33}\n",
      "{'u': 0.25, 'd': 0.25, 'l': 0.25, 'r': 0.25}\n",
      "{'u': 0.25, 'd': 0.25, 'l': 0.25, 'r': 0.25}\n",
      "{'u': 0.25, 'd': 0.25, 'l': 0.25, 'r': 0.25}\n",
      "{'u': 0.01, 'd': 0.97, 'l': 0.01, 'r': 0.01}\n",
      "{'u': 0.01, 'd': 0.01, 'l': 0.97, 'r': 0.01}\n",
      "{'u': 0.01, 'd': 0.97, 'l': 0.01, 'r': 0.01}\n",
      "{'u': 0.01, 'd': 0.01, 'l': 0.01, 'r': 0.97}\n",
      "{'u': 0.01, 'd': 0.97, 'l': 0.01, 'r': 0.01}\n",
      "{'u': 0.01, 'd': 0.01, 'l': 0.01, 'r': 0.97}\n"
     ]
    }
   ],
   "source": [
    "def update_policy(policy, Q, epsilon, action_index = {'u':0, 'd':1, 'l':2, 'r':3}):\n",
    "    '''Updates the policy based on estiamtes of Q using \n",
    "    an epslion greedy algorithm. The action with the highest\n",
    "    action value is used.'''\n",
    "    \n",
    "    ## Find the keys for the actions in the policy\n",
    "    keys = list(policy[0].keys())\n",
    "    \n",
    "    ## Iterate over the states and find the maximm action value.\n",
    "    for state in range(len(policy)):\n",
    "        ## First find the index of the max Q values  \n",
    "        q = Q[state,:]\n",
    "        max_action_index = np.where(q == max(q))[0]\n",
    "\n",
    "        ## Find the probabilities for the transitions\n",
    "        n_transitions = float(len(q))\n",
    "        n_max_transitions = float(len(max_action_index))\n",
    "        p_max_transitions = (1.0 - epsilon *(n_transitions - n_max_transitions))/(n_max_transitions)\n",
    "  \n",
    "        ## Now assign the probabilities to the policy as epsilon greedy.\n",
    "        for key in keys:\n",
    "            if(action_index[key] in max_action_index): policy[state][key] = p_max_transitions\n",
    "            else: policy[state][key] = epsilon\n",
    "    return(policy) \n",
    "\n",
    "\n",
    "def SARSA_GPI(policy, n_samples, n_cycles, epsilon = 0.01, n_actions = 4):\n",
    "    '''Function perfoms GPI using Monte Carlo value estimation.\n",
    "    Updates to policy are epsilon greedy to prevent the algorithm\n",
    "    from being trapped at some point.'''\n",
    "    Q = np.zeros((len(policy), n_actions))\n",
    "    ## Iterate over the required number of cycles\n",
    "    for _ in range(n_cycles):\n",
    "        Q = SARSA_0(policy, n_samples, alpha = 0.2, gamma = 0.9)\n",
    "        policy = update_policy(policy, Q, epsilon = epsilon)\n",
    "    return(policy)\n",
    "\n",
    "improved_policy = SARSA_GPI(initial_policy, 100, 10, epsilon = 0.01)  \n",
    "for state in range(25):\n",
    "    print(improved_policy[state])"
   ]
  },
  {
   "cell_type": "markdown",
   "metadata": {},
   "source": [
    "Verify that your results make sense? For example, starting at state 2 or 22, do the most probable actions follow a shortest path?\n",
    "\n",
    "ANS: Yes"
   ]
  },
  {
   "cell_type": "markdown",
   "metadata": {},
   "source": [
    "## Apply Double Q-Learning\n",
    "\n",
    "As a next step, you will apply Double Q-learning(0) to the warehouse navigation problem. In the cell below create and test a function to perform Double Q-Learning for this problem. You are welcome to use the `double_Q_learning` function from the TD/Q-learning notebook as a starting point.\n",
    "\n",
    "Execute your code for 10 cycles of 500 episodes, with $\\alpha = 0.2$, and $\\gamma = 0.9$ and examine the results."
   ]
  },
  {
   "cell_type": "code",
   "execution_count": 51,
   "metadata": {
    "scrolled": false
   },
   "outputs": [
    {
     "name": "stdout",
     "output_type": "stream",
     "text": [
      "          up      down       left      right\n",
      "0   1.108310  5.987635   1.476171   4.521260\n",
      "1  -0.381803 -0.293311   4.751955   4.187984\n",
      "2  -0.275177 -0.052912   4.328993   4.129039\n",
      "3   1.087502  0.289004   4.288007   4.764847\n",
      "4   0.000000  5.139696   4.056966   0.576976\n",
      "5   4.677835  6.407474   1.982864   1.706549\n",
      "6   0.000000  0.000000   0.000000   0.000000\n",
      "7   0.000000  0.000000   0.000000   0.000000\n",
      "8   0.000000  0.000000   0.000000   0.000000\n",
      "9   4.837206  6.637496   1.381167   1.555957\n",
      "10  6.316574  5.143226   3.253782  10.886775\n",
      "11  5.132610  5.299803   2.975396   9.871818\n",
      "12  0.000000  0.000000   0.000000   0.000000\n",
      "13  1.794179  3.520183  10.605475   0.642690\n",
      "14  4.710141  5.430459  11.550968   5.091747\n",
      "15  6.733334  4.961348   0.636617   1.301942\n",
      "16  0.000000  0.000000   0.000000   0.000000\n",
      "17  0.000000  0.000000   0.000000   0.000000\n",
      "18  0.000000  0.000000   0.000000   0.000000\n",
      "19  7.116050  4.211752   2.136978   1.605663\n",
      "20  6.053826  0.092854   0.639057   4.509354\n",
      "21  0.776636  0.767555   4.726242   3.736804\n",
      "22  0.036006 -0.181989   4.189145   4.359729\n",
      "23  0.033566  0.314263   3.706137   4.112645\n",
      "24  6.148928  1.575060   4.003369   0.201484\n"
     ]
    }
   ],
   "source": [
    "def action_lookup(index):\n",
    "    \"\"\"Helper function returns action given an index\"\"\"\n",
    "    action_dic = {0:'u', 1:'d', 2:'l', 3:'r'}\n",
    "    return action_dic[index]\n",
    "\n",
    "\n",
    "def simulate_environment_q(s, action, neighbors = neighbors, rewards = rewards, terminal = 12):\n",
    "    \"\"\"\n",
    "    Function simulates the environment for Q-learning.\n",
    "    returns s_prime and reward given s and action\n",
    "    \"\"\"\n",
    "    s_prime = neighbors[s][action]        \n",
    "    reward_prime = np.array([rewards[s_prime][a] for a in rewards[0].keys()])\n",
    "    if s_prime in taboo_states:\n",
    "        return (s, reward_prime, is_terminal(s, terminal))\n",
    "    return (s_prime, reward_prime, is_terminal(s_prime, terminal))\n",
    "\n",
    "def start_episode_q(n_states, n_actions):\n",
    "    '''Function to find a random starting values for the episode\n",
    "    that is not the terminal state'''\n",
    "    state = nr.choice(range(n_states))\n",
    "    while(is_terminal(state) or state in taboo_states):  ## Make sure not starting at the terminal state\n",
    "         state = nr.choice(range(n_states))\n",
    "    ## Now find a random starting action index\n",
    "    a_index = nr.choice(range(4), size = 1)[0]\n",
    "    s_prime, reward, terminal = simulate_environment_q(state, action_lookup(a_index))\n",
    "    return state, a_index, reward[a_index] ## action_lookup(a_index), reward[a_index]\n",
    "\n",
    "def update_double_Q(q1, q2, current_state, a_index, reward, alpha, gamma):\n",
    "    \"\"\"Function to update the actions values in the Q matrix\"\"\"\n",
    "    ## Get s_prime given s and a\n",
    "    s_prime, reward_prime, terminal = simulate_environment_q(current_state, action_lookup(a_index))\n",
    "    a_prime_index = nr.choice(np.where(reward_prime == max(reward_prime))[0], size = 1)[0]\n",
    "    ## Update the action values \n",
    "    q1[current_state,a_index] = q1[current_state,a_index] + alpha * (reward + gamma * (q2[s_prime,a_prime_index] - q1[current_state,a_index]))\n",
    "    return q1, s_prime, reward_prime, terminal, a_prime_index\n",
    "\n",
    "\n",
    "def double_Q_learning_0(policy, episodes, alpha = 0.2, gamma = 0.9):\n",
    "    \"\"\"\n",
    "    Function to perform Q-learning(0) control policy improvement.\n",
    "    \"\"\"\n",
    "    ## Initialize the state list and action values\n",
    "    states = list(policy.keys())\n",
    "    n_states = len(states)\n",
    "    n_actions = len(policy[0].keys())\n",
    "    \n",
    "    ## Initialize both Q matricies\n",
    "    Q1 = np.zeros((n_states,n_actions))\n",
    "    Q2 = np.zeros((n_states,n_actions))\n",
    "    \n",
    "    for _ in range(episodes): # Loop over the episodes\n",
    "        terminal = False\n",
    "        ## Find the inital state, action index and reward\n",
    "        current_state, a_index, reward = start_episode_q(n_states,n_actions)\n",
    "        \n",
    "        while(not terminal): # Episode ends where get to terminal state   \n",
    "            ## Update the action values in Q1 or Q2 based on random choice\n",
    "            if(nr.uniform() <= 0.5):\n",
    "                Q1, s_prime, reward_prime, terminal, a_prime_index = update_double_Q(Q1, Q2, current_state, a_index, reward, alpha, gamma)\n",
    "            else:\n",
    "                Q2, s_prime, reward_prime, terminal, a_prime_index = update_double_Q(Q2, Q1, current_state, a_index, reward, alpha, gamma)\n",
    "            ## Set action, reward and state for next iteration\n",
    "            a_index = a_prime_index\n",
    "            current_state = s_prime\n",
    "            reward = reward_prime[a_prime_index]\n",
    "    return(Q1)\n",
    "\n",
    "Q_ = double_Q_learning_0(initial_policy, 500)\n",
    "print_Q(Q_)"
   ]
  },
  {
   "cell_type": "markdown",
   "metadata": {},
   "source": [
    "Examine the action values you have computed. Ensure that the action values are 0 for the goal and taboo states. Also check that the actions with the largest values for each state make sense in terms of reaching the goal. "
   ]
  },
  {
   "cell_type": "markdown",
   "metadata": {},
   "source": [
    "With the action value function completed, you will now create and test code to perform GPI with Double Q-Learning(0).  You are welcome to use the `double_Q_learning_0_GPI` function from the TD/Q-learning notebook as a starting point. \n",
    "\n",
    "Execute your code for 10 cycles of 500 episodes, with $\\alpha = 0.2$, $\\gamma = 0.9$ and $\\epsilon = 0.01$, and examine the results. "
   ]
  },
  {
   "cell_type": "code",
   "execution_count": 57,
   "metadata": {},
   "outputs": [
    {
     "name": "stdout",
     "output_type": "stream",
     "text": [
      "{0: {'u': 0.01, 'd': 0.76, 'l': 0.01, 'r': 0.01}, 1: {'u': 0.01, 'd': 0.01, 'l': 0.76, 'r': 0.01}, 2: {'u': 0.01, 'd': 0.01, 'l': 0.01, 'r': 0.76}, 3: {'u': 0.01, 'd': 0.01, 'l': 0.01, 'r': 0.76}, 4: {'u': 0.01, 'd': 0.76, 'l': 0.01, 'r': 0.01}, 5: {'u': 0.01, 'd': 0.76, 'l': 0.01, 'r': 0.01}, 6: {'u': 0.04000000000000001, 'd': 0.04000000000000001, 'l': 0.04000000000000001, 'r': 0.04000000000000001}, 7: {'u': 0.04000000000000001, 'd': 0.04000000000000001, 'l': 0.04000000000000001, 'r': 0.04000000000000001}, 8: {'u': 0.04000000000000001, 'd': 0.04000000000000001, 'l': 0.04000000000000001, 'r': 0.04000000000000001}, 9: {'u': 0.01, 'd': 0.76, 'l': 0.01, 'r': 0.01}, 10: {'u': 0.01, 'd': 0.01, 'l': 0.01, 'r': 0.76}, 11: {'u': 0.01, 'd': 0.01, 'l': 0.01, 'r': 0.76}, 12: {'u': 0.04000000000000001, 'd': 0.04000000000000001, 'l': 0.04000000000000001, 'r': 0.04000000000000001}, 13: {'u': 0.01, 'd': 0.01, 'l': 0.76, 'r': 0.01}, 14: {'u': 0.01, 'd': 0.01, 'l': 0.76, 'r': 0.01}, 15: {'u': 0.76, 'd': 0.01, 'l': 0.01, 'r': 0.01}, 16: {'u': 0.04000000000000001, 'd': 0.04000000000000001, 'l': 0.04000000000000001, 'r': 0.04000000000000001}, 17: {'u': 0.04000000000000001, 'd': 0.04000000000000001, 'l': 0.04000000000000001, 'r': 0.04000000000000001}, 18: {'u': 0.04000000000000001, 'd': 0.04000000000000001, 'l': 0.04000000000000001, 'r': 0.04000000000000001}, 19: {'u': 0.76, 'd': 0.01, 'l': 0.01, 'r': 0.01}, 20: {'u': 0.76, 'd': 0.01, 'l': 0.01, 'r': 0.01}, 21: {'u': 0.01, 'd': 0.01, 'l': 0.76, 'r': 0.01}, 22: {'u': 0.01, 'd': 0.01, 'l': 0.01, 'r': 0.76}, 23: {'u': 0.01, 'd': 0.01, 'l': 0.01, 'r': 0.76}, 24: {'u': 0.76, 'd': 0.01, 'l': 0.01, 'r': 0.01}}\n"
     ]
    }
   ],
   "source": [
    "import copy\n",
    "\n",
    "def double_Q_learning_0_GPI(policy, neighbors, reward, cycles, episodes, goal, alpha = 0.2, gamma = 0.9, epsilon = 0.1):\n",
    "    ## iterate over GPI cycles\n",
    "    current_policy = copy.deepcopy(policy)\n",
    "    for _ in range(cycles):\n",
    "        ## Evaluate policy with SARSA\n",
    "        Q = double_Q_learning_0(policy, episodes, alpha, gamma)\n",
    "        \n",
    "        for s in list(current_policy.keys()): # iterate over all states\n",
    "            ## Find the index action with the largest Q values \n",
    "            ## May be more than one. \n",
    "            max_index = np.where(Q[s,:] == max(Q[s,:]))[0]\n",
    "\n",
    "            ## Probabilities of transition\n",
    "            ## Need to allow for further exploration so don't let any \n",
    "            ## transition probability be 0.\n",
    "            ## Some gymnastics are required to ensure that the probabilities \n",
    "            ## over the transistions actual add to exactly 1.0\n",
    "            neighbors_len = float(Q.shape[0])\n",
    "            max_len = float(len(max_index))\n",
    "            diff = round(neighbors_len - max_len,3)\n",
    "            prob_for_policy = round(1.0/max_len,3)\n",
    "            adjust = round((epsilon * (diff)), 3)\n",
    "            prob_for_policy = prob_for_policy - adjust\n",
    "            if(diff != 0.0):\n",
    "                remainder = (1.0 - max_len * prob_for_policy)/diff\n",
    "            else:\n",
    "                remainder = epsilon\n",
    "                                                 \n",
    "            for i, key in enumerate(current_policy[s]): ## Update policy\n",
    "                if(i in max_index): current_policy[s][key] = prob_for_policy\n",
    "                else: current_policy[s][key] = remainder   \n",
    "                    \n",
    "    return(current_policy)                    \n",
    " \n",
    "\n",
    "Double_Q_0_Policy = double_Q_learning_0_GPI(initial_policy, neighbors, rewards, cycles = 10, episodes = 500, goal = 12, alpha = 0.2, epsilon = 0.01)\n",
    "print(Double_Q_0_Policy)"
   ]
  },
  {
   "cell_type": "markdown",
   "metadata": {},
   "source": [
    "Verify that your results make sense? For example, starting at state 2 or 22, do the most probable actions follow a shortest path?\n",
    "\n",
    "ANS: Yes"
   ]
  },
  {
   "cell_type": "markdown",
   "metadata": {},
   "source": [
    "## N-Step TD Learning\n",
    "\n",
    "Finally, you will apply N-Step TD learning and N-Step SARSA to the warehouse navigation problem.  First create a function to perform N-step TD policy evaluation. You are welcome to start with the `TD_n` policy evaluation function from the TD/Q-Learning notebook. \n",
    "\n",
    "Test your function using 1,000 episodes, $n = 4$, $\\gamma = 0.9$, and $\\alpha = 0.2$."
   ]
  },
  {
   "cell_type": "code",
   "execution_count": 66,
   "metadata": {},
   "outputs": [
    {
     "data": {
      "text/plain": [
       "array([[-9.75522303e-04, -4.91735046e-01, -1.81094379e-01,\n",
       "        -4.94664157e-01, -1.88234231e-01],\n",
       "       [-8.87377442e-02,  0.00000000e+00,  0.00000000e+00,\n",
       "         0.00000000e+00, -1.71976041e-03],\n",
       "       [-7.67635645e-02, -9.29799617e-02,  0.00000000e+00,\n",
       "         2.82444875e+00,  1.35055150e+00],\n",
       "       [-1.45590124e-01,  0.00000000e+00,  0.00000000e+00,\n",
       "         0.00000000e+00, -2.72333335e-01],\n",
       "       [-2.67552414e-01, -7.65787151e-02, -2.54079261e-01,\n",
       "        -4.36237832e-03, -7.10264243e-03]])"
      ]
     },
     "execution_count": 66,
     "metadata": {},
     "output_type": "execute_result"
    }
   ],
   "source": [
    "def TD_n(policy, episodes, n, alpha = 0.2, gamma = 0.9, epsilon = 0.1, action_index = {'u':0, 'd':1, 'l':2, 'r':3}):\n",
    "    \"\"\"\n",
    "    Function to perform TD(N) policy evaluation.\n",
    "    \"\"\"\n",
    "    ## Initialize the state list and action values\n",
    "    # action_index = list(range(len(list(policy[0].keys()))))\n",
    "    states = list(policy.keys())\n",
    "    n_states = len(states)\n",
    "    n_actions = len(policy[0].keys())\n",
    "    v = np.zeros((n_states))\n",
    "    \n",
    "    for _ in range(episodes):\n",
    "        ## Initialize variables\n",
    "#         T = float(\"inf\")\n",
    "        T = 100 # ????????????????????????\n",
    "        tau = 0\n",
    "        t = 0\n",
    "        rewards = []\n",
    "       \n",
    "        ## Get the random initial state\n",
    "        current_state = start_episode(n_states)   \n",
    "        state = [current_state]\n",
    "        ## Initial action\n",
    "        action, s_prime, reward, terminal = take_action(current_state, policy)\n",
    "        state.append(s_prime)\n",
    "        \n",
    "        while(not (tau == T - 1)):\n",
    "#             print('tau', tau, ' T -1 ', T-1)\n",
    "            \n",
    "            if(t < T):\n",
    "                ## Append the reward to the list\n",
    "                rewards.append(reward)             \n",
    "                if(terminal): \n",
    "                    ## update T if at terminal state\n",
    "                    T = t + 1\n",
    "                else: \n",
    "                    ## Get the next action state and rewards\n",
    "                    action_prime, s_prime_prime, reward_prime, terminal_prime = take_action(current_state, policy)\n",
    "                    state.append(s_prime_prime)\n",
    "                      \n",
    "            ## Update tau\n",
    "            tau = t - n + 1\n",
    "            \n",
    "            if(tau > 0):\n",
    "                G = 0.0\n",
    "                for i in range(tau + 1, min(tau + n, T)):\n",
    "                    exponent = i + tau - 1\n",
    "                    G = G + gamma**exponent * rewards[i]\n",
    "                if(tau + n < T): G += gamma**n * v[state[tau + n]] \n",
    "                v[state[tau]] = v[state[tau]] + alpha * (G - v[state[tau]])    \n",
    "                \n",
    "            \n",
    "            ## Update variables for the next step\n",
    "            t += 1\n",
    "            current_state = s_prime\n",
    "            if(not terminal):\n",
    "                action = action_prime\n",
    "                s_prime = s_prime_prime\n",
    "                reward = reward_prime\n",
    "                terminal = terminal_prime\n",
    "    return(v)     \n",
    "\n",
    "TD_n(initial_policy, 1000, 4).reshape((5,5))"
   ]
  },
  {
   "cell_type": "markdown",
   "metadata": {},
   "source": [
    "Verify that the result you obtained appears correct. Are the values of the goal and taboo states all 0? Do the state values decrease with distance from the goal? Yes"
   ]
  },
  {
   "cell_type": "markdown",
   "metadata": {},
   "source": [
    "Now that you have an estimate of the best values for the number of steps and the learning rate you can compute the action values using multi-step SARSA. In the cell below, create and test a function to compute the action values using N-step SARSA. You are welcome to use the `SRARSA_n` function from the TD/Q-learning notebook as a starting point. \n",
    "\n",
    "Test your function by executing 4-step SARSA for 1,000 episodes with $\\alpha = 0.2$ and $\\gamma = 0.9$ and using the optimum number of steps and learning rate you have determined. "
   ]
  },
  {
   "cell_type": "code",
   "execution_count": null,
   "metadata": {},
   "outputs": [],
   "source": [
    "def SARSA_n(policy, episodes, n, alpha = 0.2, gamma = 0.9, epsilon = 0.1, action_index = {'u':0, 'd':1, 'l':2, 'r':3}):\n",
    "    \"\"\"\n",
    "    Function to perform TD(N) policy evaluation.\n",
    "    \"\"\"\n",
    "    ## Initialize the state list and action values\n",
    "#    action_index = list(range(len(list(policy[0].keys()))))\n",
    "    states = list(policy.keys())\n",
    "    n_states = len(states)\n",
    "    n_actions = len(policy[0].keys())\n",
    "    q = np.zeros((n_states, n_actions))\n",
    "    \n",
    "    for _ in range(episodes):\n",
    "        ## Initialize variables\n",
    "#         T = float(\"inf\")\n",
    "        T = 1000\n",
    "        tau = 0\n",
    "        t = 0\n",
    "        rewards = []\n",
    "       \n",
    "        ## Get the random initial state\n",
    "        current_state = start_episode(n_states)   \n",
    "        state = [current_state]\n",
    "        ## Initial action\n",
    "        action, s_prime, reward, terminal = take_action(current_state, policy)\n",
    "        state.append(s_prime)\n",
    "        \n",
    "        while(not (tau == T - 1)):\n",
    "            if(t < T):\n",
    "                ## Append the reward to the list\n",
    "                rewards.append(reward)             \n",
    "                if(terminal): \n",
    "                    ## update T if at terminal state\n",
    "                    T = t + 1\n",
    "                else: \n",
    "                    ## Get the next action state and rewards\n",
    "                    action_prime, s_prime_prime, reward_prime, terminal_prime = take_action(current_state, policy)\n",
    "                    state.append(s_prime_prime)\n",
    "                      \n",
    "            ## Update tau\n",
    "            tau = t - n + 1\n",
    "            \n",
    "            if(tau > 0):\n",
    "                G = 0.0\n",
    "                for i in range(tau + 1, min(tau + n, T)):\n",
    "                    exponent = i + tau - 1\n",
    "                    G = G + gamma**exponent * rewards[i]\n",
    "                if(tau + n < T): G += gamma**n * q[state[tau + n], action_index[action_prime]] \n",
    "                q[state[tau], action_index[action]] = q[state[tau], action_index[action]] + alpha * (G - q[state[tau], action_index[action]])    \n",
    "                \n",
    "            \n",
    "            ## Update variables for the next step\n",
    "            t += 1\n",
    "            current_state = s_prime\n",
    "            if(not terminal):\n",
    "                action = action_prime\n",
    "                s_prime = s_prime_prime\n",
    "                reward = reward_prime\n",
    "                terminal = terminal_prime\n",
    "    return(q)              \n",
    "            \n",
    "Q = SARSA_n(initial_policy, 1000, 4)\n",
    "print_Q(Q)"
   ]
  },
  {
   "cell_type": "markdown",
   "metadata": {},
   "source": [
    "Verify that the results you have computed appear correct using the aforementioned criteria. \n",
    "\n",
    "Finally, create a function to use the GPI algorithm with N-step SARSA in the cell below. You are welcome to start with the `SARSA_n_GPI` function from the TD/Q-learning notebook. \n",
    "\n",
    "Execute your function using 4 step SARSA for 5 cycles of 500 episodes, with $\\alpha = 0.2$, $\\epsilon = 0.1$, and $\\gamma = 0.9$."
   ]
  },
  {
   "cell_type": "code",
   "execution_count": null,
   "metadata": {},
   "outputs": [],
   "source": [
    "import copy\n",
    "def SARSA_n_GPI(policy, n, cycles, episodes, goal, alpha = 0.2, gamma = 0.9, epsilon = 0.1):\n",
    "    ## iterate over GPI cycles\n",
    "    current_policy = copy.deepcopy(policy)\n",
    "    for _ in range(cycles):\n",
    "        ## Evaluate policy with SARSA\n",
    "        Q = SARSA_n(policy, episodes, n, goal = goal, alpha = alpha, gamma = gamma, epsilon = epsilon)\n",
    "        \n",
    "        for s in list(current_policy.keys()): # iterate over all states\n",
    "            ## Find the index action with the largest Q values \n",
    "            ## May be more than one. \n",
    "            max_index = np.where(Q[:,s] == max(Q[:,s]))[0]\n",
    "            \n",
    "            ## Probabilities of transition\n",
    "            ## Need to allow for further exploration so don't let any \n",
    "            ## transition probability be 0.\n",
    "            ## Some gymnastics are required to ensure that the probabilities \n",
    "            ## over the transistions actual add to exactly 1.0\n",
    "            neighbors_len = float(Q.shape[0])\n",
    "            max_len = float(len(max_index))\n",
    "            diff = round(neighbors_len - max_len,3)\n",
    "            prob_for_policy = round(1.0/max_len,3)\n",
    "            adjust = round((epsilon * (diff)), 3)\n",
    "            prob_for_policy = prob_for_policy - adjust\n",
    "            if(diff != 0.0):\n",
    "                remainder = (1.0 - max_len * prob_for_policy)/diff\n",
    "            else:\n",
    "                remainder = epsilon\n",
    "                                                 \n",
    "            for i, key in enumerate(current_policy[s]): ## Update policy\n",
    "                if(i in max_index): current_policy[s][key] = prob_for_policy\n",
    "                else: current_policy[s][key] = remainder   \n",
    "                    \n",
    "    return(current_policy)                    \n",
    " \n",
    "\n",
    "SARSA_N_Policy = SARSA_n_GPI(initial_policy, n = 4, cycles = 5, episodes = 1000, goal = 0, alpha = 0.2, epsilon = 0.1)\n",
    "print(SARSA_N_Policy)"
   ]
  },
  {
   "cell_type": "markdown",
   "metadata": {},
   "source": [
    "Examine your results. Verify that the most probable paths to the goal from states 2 and 22 are the shortest possible.  "
   ]
  },
  {
   "cell_type": "code",
   "execution_count": null,
   "metadata": {},
   "outputs": [],
   "source": []
  }
 ],
 "metadata": {
  "kernelspec": {
   "display_name": "Python 3",
   "language": "python",
   "name": "python3"
  },
  "language_info": {
   "codemirror_mode": {
    "name": "ipython",
    "version": 3
   },
   "file_extension": ".py",
   "mimetype": "text/x-python",
   "name": "python",
   "nbconvert_exporter": "python",
   "pygments_lexer": "ipython3",
   "version": "3.7.1"
  }
 },
 "nbformat": 4,
 "nbformat_minor": 2
}
