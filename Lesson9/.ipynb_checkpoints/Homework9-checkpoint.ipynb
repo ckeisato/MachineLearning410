{
 "cells": [
  {
   "cell_type": "markdown",
   "metadata": {},
   "source": [
    "# Homework 8\n",
    "\n",
    "## CSCI E-82A\n",
    "\n",
    "\n",
    "In the a previous homework assignments, you used two different dynamic programming algorithms and Monte Carlo reinforcement learning to solve a robot navigation problem by finding optimal paths to a goal in a simplified warehouse environment. Now you will use time differencing reinforcement learning to find optimal paths in the same environment."
   ]
  },
  {
   "cell_type": "markdown",
   "metadata": {},
   "source": [
    "The configuration of the warehouse environment is illustrated in the figure below.\n",
    "\n",
    "<img src=\"GridWorldFactory.JPG\" alt=\"Drawing\" style=\"width:200px; height:200px\"/>\n",
    "<center> **Grid World for Factory Navigation Example** </center>\n",
    "\n",
    "The goal is for the robot to deliver some material to position (state) 12, shown in blue. Since there is a goal state or **terminal state** this an **episodic task**. \n",
    "\n",
    "There are some barriers comprised of the states $\\{ 6, 7, 8 \\}$ and $\\{ 16, 17, 18 \\}$, shown with hash marks. In a real warehouse, these positions might be occupied by shelving or equipment. We do not want the robot to hit these barriers. Thus, we say that transitioning to these barrier states is **taboo**.\n",
    "\n",
    "As before, we do not want the robot to hit the edges of the grid world, which represent the outer walls of the warehouse. \n",
    "\n",
    "## Representation\n",
    "\n",
    "You are, no doubt, familiar with the representation for this problem by now.    \n",
    "\n",
    "As with many such problems, the starting place is creating the **representation**. In the cell below encode your representation for the possible action-state transitions. From each state there are 4 possible actions:\n",
    "- up, u\n",
    "- down, d,\n",
    "- left, l\n",
    "- right, r\n",
    "\n",
    "There are a few special cases you need to consider:\n",
    "- Any action transitioning state off the grid or into a barrier should keep the state unchanged. \n",
    "- Any action in the goal state keeps the state unchanged. \n",
    "- Any transition within the taboo (barrier) states can keep the state unchanged. If you experiment, you will see that other encodings work as well since the value of a barrier states are always zero and there are no actions transitioning into these states. \n",
    "\n",
    "> **Hint:** It may help you create a pencil and paper sketch of the transitions, rewards, and probabilities or policy. This can help you to keep the bookkeeping correct. "
   ]
  },
  {
   "cell_type": "code",
   "execution_count": 1,
   "metadata": {},
   "outputs": [],
   "source": [
    "## import numpy for latter\n",
    "import numpy as np\n",
    "import numpy.random as nr\n",
    "\n",
    "## Define the transition dictonary of dictionaries:\n",
    "neighbors = {\n",
    "    0:{'u':0, 'd':5, 'l':0, 'r':1},\n",
    "    1:{'u':1, 'd':1, 'l':0, 'r':2},\n",
    "    2:{'u':2, 'd':2, 'l':1, 'r':3},\n",
    "    3:{'u':3, 'd':3, 'l':2, 'r':4},\n",
    "    4:{'u':4, 'd':9, 'l':3, 'r':4},\n",
    "    5:{'u':0, 'd':10, 'l':5, 'r':5},\n",
    "    6:{'u':6, 'd':6, 'l':6, 'r':6},\n",
    "    7:{'u':7, 'd':7, 'l':7, 'r':7},\n",
    "    8:{'u':8, 'd':8, 'l':8, 'r':8},\n",
    "    9:{'u':4, 'd':14, 'l':9, 'r':9},\n",
    "    10:{'u':5, 'd':15, 'l':10, 'r':11},\n",
    "    11:{'u':11, 'd':11, 'l':10, 'r':12},\n",
    "    12:{'u':12, 'd':12, 'l':12, 'r':12},\n",
    "    13:{'u':13, 'd':13, 'l':12, 'r':14},\n",
    "    14:{'u':9, 'd':19, 'l':13, 'r':14},\n",
    "    15:{'u':10, 'd':20, 'l':15, 'r':15},\n",
    "    16:{'u':16, 'd':16, 'l':16, 'r':16},\n",
    "    17:{'u':17, 'd':17, 'l':17, 'r':17},\n",
    "    18:{'u':18, 'd':18, 'l':18, 'r':18},\n",
    "    19:{'u':14, 'd':24, 'l':19, 'r':19},\n",
    "    20:{'u':15, 'd':20, 'l':20, 'r':21},\n",
    "    21:{'u':21, 'd':21, 'l':20, 'r':22},\n",
    "    22:{'u':22, 'd':22, 'l':21, 'r':23},\n",
    "    23:{'u':23, 'd':23, 'l':22, 'r':24},\n",
    "    24:{'u':19, 'd':24, 'l':23, 'r':24}\n",
    "}\n"
   ]
  },
  {
   "cell_type": "markdown",
   "metadata": {},
   "source": [
    "You need to define the initial transition probabilities for the Markov process. Set the probabilities for each transition as a **uniform distribution** leading to random action by the robot. \n",
    "\n",
    "> **Note:** As these are just starting values, the exact values of the transition probabilities are not actually all that important in terms of solving the RL problem. Also, notice that it does not matter how the taboo state transitions are encoded. The point of the DP algorithm is to learn the transition policy."
   ]
  },
  {
   "cell_type": "code",
   "execution_count": 2,
   "metadata": {},
   "outputs": [],
   "source": [
    "initial_policy = {\n",
    "    0:{'u':0.25, 'd':0.25, 'l':0.25, 'r':0.25},\n",
    "    1:{'u':0.25, 'd':0.25, 'l':0.25, 'r':0.25},\n",
    "    2:{'u':0.25, 'd':0.25, 'l':0.25, 'r':0.25},\n",
    "    3:{'u':0.25, 'd':0.25, 'l':0.25, 'r':0.25},\n",
    "    4:{'u':0.25, 'd':0.25, 'l':0.25, 'r':0.25},\n",
    "    5:{'u':0.25, 'd':0.25, 'l':0.25, 'r':0.25},\n",
    "    6:{'u':0.25, 'd':0.25, 'l':0.25, 'r':0.25},\n",
    "    7:{'u':0.25, 'd':0.25, 'l':0.25, 'r':0.25},\n",
    "    8:{'u':0.25, 'd':0.25, 'l':0.25, 'r':0.25},\n",
    "    9:{'u':0.25, 'd':0.25, 'l':0.25, 'r':0.25},\n",
    "    10:{'u':0.25, 'd':0.25, 'l':0.25, 'r':0.25},\n",
    "    11:{'u':0.25, 'd':0.25, 'l':0.25, 'r':0.25},\n",
    "    12:{'u':0.25, 'd':0.25, 'l':0.25, 'r':0.25},\n",
    "    13:{'u':0.25, 'd':0.25, 'l':0.25, 'r':0.25},\n",
    "    14:{'u':0.25, 'd':0.25, 'l':0.25, 'r':0.25},\n",
    "    15:{'u':0.25, 'd':0.25, 'l':0.25, 'r':0.25},\n",
    "    16:{'u':0.25, 'd':0.25, 'l':0.25, 'r':0.25},\n",
    "    17:{'u':0.25, 'd':0.25, 'l':0.25, 'r':0.25},\n",
    "    18:{'u':0.25, 'd':0.25, 'l':0.25, 'r':0.25},\n",
    "    19:{'u':0.25, 'd':0.25, 'l':0.25, 'r':0.25},\n",
    "    20:{'u':0.25, 'd':0.25, 'l':0.25, 'r':0.25},\n",
    "    21:{'u':0.25, 'd':0.25, 'l':0.25, 'r':0.25},\n",
    "    22:{'u':0.25, 'd':0.25, 'l':0.25, 'r':0.25},\n",
    "    23:{'u':0.25, 'd':0.25, 'l':0.25, 'r':0.25},\n",
    "    24:{'u':0.25, 'd':0.25, 'l':0.25, 'r':0.25}\n",
    "}"
   ]
  },
  {
   "cell_type": "markdown",
   "metadata": {},
   "source": [
    "The robot receives the following rewards:\n",
    "- 10 for entering position 0. \n",
    "- -1 for attempting to leave the grid. In other words, we penalize the robot for hitting the edges of the grid.  \n",
    "- -0.1 for all other state transitions, which is the cost for the robot to move from one state to another. If we did not have this penalty, the robot could follow any random plan to the goal which did not hit the edges. \n",
    "\n",
    "This **reward structure is unknown to the MC RL agent**. The agent must **learn** the rewards by sampling the environment. \n",
    "\n",
    "In the code cell below encode your representation of this reward structure you will use in your simulated environment.  "
   ]
  },
  {
   "cell_type": "code",
   "execution_count": 3,
   "metadata": {},
   "outputs": [],
   "source": [
    "rewards = {\n",
    "    0:{'u':-1.0, 'd':-0.1, 'l':-1.0, 'r':-0.1},\n",
    "    1:{'u':-1.0, 'd':-1.0, 'l':-0.1, 'r':-0.1},\n",
    "    2:{'u':-1.0, 'd':-1.0, 'l':-0.1, 'r':-0.1},\n",
    "    3:{'u':-1.0, 'd':-1.0, 'l':-0.1, 'r':-0.1},\n",
    "    4:{'u':-1.0, 'd':-0.1, 'l':-0.1, 'r':-1.0},\n",
    "    5:{'u':-0.1, 'd':-0.1, 'l':-1.0, 'r':-1.0},\n",
    "    6:{'u':0, 'd':0, 'l':0, 'r':0},\n",
    "    7:{'u':0, 'd':0, 'l':0, 'r':0},\n",
    "    8:{'u':0, 'd':0, 'l':0, 'r':0},\n",
    "    9:{'u':-0.1, 'd':-0.1, 'l':-1.0, 'r':-1.0},\n",
    "    10:{'u':-0.1, 'd':-0.1, 'l':-1.0, 'r':-0.1},\n",
    "    11:{'u':-1.0, 'd':-1.0, 'l':-0.1, 'r':10.0},\n",
    "    12:{'u':-0.1, 'd':-0.1, 'l':-0.1, 'r':-0.1},\n",
    "    13:{'u':-1.0, 'd':-1.0, 'l':10.0, 'r':-0.1},\n",
    "    14:{'u':-0.1, 'd':-0.1, 'l':-0.1, 'r':-1.0},\n",
    "    15:{'u':-0.1, 'd':-0.1, 'l':-1.0, 'r':-1.0},\n",
    "    16:{'u':0, 'd':0, 'l':0, 'r':0},\n",
    "    17:{'u':0, 'd':0, 'l':0, 'r':0},\n",
    "    18:{'u':0, 'd':0, 'l':0, 'r':0},\n",
    "    19:{'u':-0.1, 'd':-0.1, 'l':-1.0, 'r':-1.0},\n",
    "    20:{'u':-0.1, 'd':-1.0, 'l':-1.0, 'r':-0.1},\n",
    "    21:{'u':-1.0, 'd':-1.0, 'l':-0.1, 'r':-0.1},\n",
    "    22:{'u':-1.0, 'd':-1.0, 'l':-0.1, 'r':-0.1},\n",
    "    23:{'u':-1.0, 'd':-1.0, 'l':-0.1, 'r':-0.1},\n",
    "    24:{'u':-0.1, 'd':-1.0, 'l':-0.1, 'r':-1.0}\n",
    "}"
   ]
  },
  {
   "cell_type": "markdown",
   "metadata": {},
   "source": [
    "You will find it useful to create a list of taboo states, which you can encode in the cell below."
   ]
  },
  {
   "cell_type": "code",
   "execution_count": 4,
   "metadata": {},
   "outputs": [],
   "source": [
    "taboo_states = [6, 7, 8, 16, 17, 18]"
   ]
  },
  {
   "cell_type": "markdown",
   "metadata": {},
   "source": [
    "## TD(0) Policy Evaluation\n",
    "\n",
    "With your representations defined, you can now create and test functions to perform TD(0) **policy evaluation**. \n",
    "\n",
    "As a first step you will need a function to find the rewards and next state given a state and an action. You are welcome to start with the `state_values` function from the TD/Q-learning notebook. However, keep in mind that you must modify this code to correctly treat the taboo states of the barrier. Specifically, taboo states should not be visited. \n",
    "\n",
    "Execute your code to test it for each possible action from state 11.  "
   ]
  },
  {
   "cell_type": "code",
   "execution_count": 5,
   "metadata": {
    "scrolled": false
   },
   "outputs": [
    {
     "name": "stdout",
     "output_type": "stream",
     "text": [
      "(11, -1.0, False)\n",
      "(11, -1.0, False)\n",
      "(12, 10.0, True)\n",
      "(10, -0.1, False)\n"
     ]
    }
   ],
   "source": [
    "def is_terminal(state, terminal = 12):\n",
    "    return state == terminal\n",
    "\n",
    "def simulate_environment(s, action, neighbors = neighbors, rewards = rewards, terminal = 12):\n",
    "    \"\"\"\n",
    "    Function simulates the environment\n",
    "    returns s_prime and reward given s and action\n",
    "    \"\"\"\n",
    "    s_prime = neighbors[s][action]\n",
    "    reward = rewards[s][action]\n",
    "    if s_prime in taboo_states:\n",
    "        return (s, reward, is_terminal(s, terminal))\n",
    "    return (s_prime, reward, is_terminal(s_prime, terminal))\n",
    "\n",
    "def take_action(state, policy, actions = {1:'u', 2:'d', 3:'l', 4:'r'}):\n",
    "    '''Function takes action given state using the transition probabilities \n",
    "    of the policy'''\n",
    "    ## Find the action given the transistion probabilities defined by the policy.\n",
    "    action = actions[nr.choice(range(len(actions)), p = list(policy[state].values())) + 1]\n",
    "    s_prime, reward, terminal = simulate_environment(state, action)\n",
    "    return (action, s_prime, reward, terminal)\n",
    "\n",
    "def start_episode(n_states):\n",
    "    '''Function to find a random starting value for the episode\n",
    "    that is not the terminal state'''\n",
    "    state = nr.choice(range(n_states))\n",
    "    while(is_terminal(state) or state in taboo_states):\n",
    "        state = nr.choice(range(n_states))\n",
    "    return state\n",
    "\n",
    "# Test the function\n",
    "for a in ['u', 'd', 'r', 'l']:\n",
    "    print(simulate_environment(11, a))\n",
    "\n"
   ]
  },
  {
   "cell_type": "markdown",
   "metadata": {},
   "source": [
    "Examine your results. Are the action values consistent with the transitions?\n",
    "\n",
    "ANS: Yes"
   ]
  },
  {
   "cell_type": "markdown",
   "metadata": {},
   "source": [
    "Next, you need to create a function to compute the state values using the TD(0) algorithm. You should use the function you just created  to find the rewards and next state given a state and action. You are welcome to use the `td_0_state_values` function from the TD/Q-learning notebook as a starting point.  \n",
    "\n",
    "Execute your function for 1,000 episodes and examine the results."
   ]
  },
  {
   "cell_type": "code",
   "execution_count": 6,
   "metadata": {
    "scrolled": false
   },
   "outputs": [
    {
     "data": {
      "text/plain": [
       "array([[-6.04544377, -6.64406109, -5.84384902, -5.44237094, -5.88334182],\n",
       "       [-4.21291145,  0.        ,  0.        ,  0.        , -5.49114745],\n",
       "       [-1.93522922,  2.46518347,  0.        ,  0.62936597, -3.97710824],\n",
       "       [-3.61483869,  0.        ,  0.        ,  0.        , -4.65099312],\n",
       "       [-4.7488387 , -4.83463173, -4.94295907, -5.09630443, -5.15714986]])"
      ]
     },
     "execution_count": 6,
     "metadata": {},
     "output_type": "execute_result"
    }
   ],
   "source": [
    "def td_0_state_values(policy, n_samps, alpha = 0.2, gamma = 1.0):\n",
    "    \"\"\"\n",
    "    Function for TD(0) policy evalutation\n",
    "    \"\"\"\n",
    "    \n",
    "    ## Find the starting state\n",
    "    n_states = len(policy)\n",
    "    current_state = start_episode(n_states)\n",
    "    terminal = False\n",
    "    \n",
    "    ## Array for state values\n",
    "    v = np.zeros((n_states,1))\n",
    "    \n",
    "    for _ in range(n_samps):\n",
    "        ## Find the next action and reward\n",
    "        action, s_prime, reward, terminal = take_action(current_state, policy)\n",
    "        ## Compute the TD error\n",
    "        delta = reward + gamma*v[s_prime] - v[current_state]\n",
    "        ## Update the state value\n",
    "        v[current_state] = v[current_state] + alpha*delta\n",
    "        current_state = s_prime\n",
    "        if(terminal): ## start new episode when terminal\n",
    "            current_state = start_episode(n_states)\n",
    "    return(v)\n",
    "\n",
    "td_0_state_values(initial_policy, 1000).reshape((5,5))"
   ]
  },
  {
   "cell_type": "markdown",
   "metadata": {},
   "source": [
    "Examine your results and answer the following questions to ensure you action value function operates correctly:\n",
    "1. Are the values of the taboo states 0? ANS: Yes\n",
    "2. Are the states with the highest values adjacent to the terminal state? ANS: Yes\n",
    "3. Are the values of the states decreasing as the distance from the terminal state increases? ANS: Yes"
   ]
  },
  {
   "cell_type": "markdown",
   "metadata": {},
   "source": [
    "\n",
    "## SARSA(0) Policy Improvement\n",
    "\n",
    "Now you will perform policy improvement using the SARSA(0) algorithm.  You are welcome to start with the `select_a_prime` and `SARSA_0` functions from the TD/Q-learning notebooks.    \n",
    "\n",
    "Execute your code for 1,000 episodes, and with $\\alpha = 0.2$, and $\\epsilon = 0.1$)"
   ]
  },
  {
   "cell_type": "code",
   "execution_count": 7,
   "metadata": {
    "scrolled": false
   },
   "outputs": [
    {
     "name": "stdout",
     "output_type": "stream",
     "text": [
      "          up      down      left     right\n",
      "0  -1.035995 -0.161704 -1.045391 -0.160261\n",
      "1  -1.069659 -1.059911 -0.157360 -0.137088\n",
      "2  -1.008263 -0.959963 -0.127110 -0.174727\n",
      "3  -1.049064 -1.050818 -0.138498 -0.151599\n",
      "4  -1.049935 -0.144062 -0.133155 -1.059425\n",
      "5  -0.174848 -0.138995 -0.983999 -0.945098\n",
      "6   0.000000  0.000000  0.000000  0.000000\n",
      "7   0.000000  0.000000  0.000000  0.000000\n",
      "8   0.000000  0.000000  0.000000  0.000000\n",
      "9  -0.160813 -0.103748 -1.007956 -0.921042\n",
      "10 -0.125906 -0.142587 -1.014071 -0.105243\n",
      "11 -0.607595 -0.745366 -0.094925  0.000000\n",
      "12  0.000000  0.000000  0.000000  0.000000\n",
      "13 -0.207200 -0.741218  0.000000 -0.117928\n",
      "14 -0.130681 -0.153681 -0.156559 -0.881425\n",
      "15 -0.136015 -0.148030 -1.038070 -1.038472\n",
      "16  0.000000  0.000000  0.000000  0.000000\n",
      "17  0.000000  0.000000  0.000000  0.000000\n",
      "18  0.000000  0.000000  0.000000  0.000000\n",
      "19 -0.122371 -0.131547 -1.036379 -1.060449\n",
      "20 -0.145084 -1.049751 -1.073560 -0.128132\n",
      "21 -0.862921 -0.920943 -0.119333 -0.108367\n",
      "22 -0.817251 -0.846805 -0.131113 -0.117019\n",
      "23 -0.866429 -0.918623 -0.120257 -0.150352\n",
      "24 -0.151037 -0.904983 -0.122369 -0.966641\n"
     ]
    }
   ],
   "source": [
    "import pandas as pd\n",
    "\n",
    "def print_Q(Q):\n",
    "    Q = pd.DataFrame(Q, columns = ['up', 'down', 'left', 'right'])\n",
    "    print(Q)\n",
    "\n",
    "def new_episode(n_states, policy):\n",
    "    '''This function provides a start for a TD\n",
    "    episode making sure the first transition is not \n",
    "    the termnal state'''\n",
    "    current_state = start_episode(n_states)\n",
    "    ## Find fist action and reward\n",
    "    action, s_prime, reward, terminal = take_action(current_state, policy)\n",
    "    return(current_state, action, s_prime, reward, terminal)    \n",
    "\n",
    "\n",
    "def SARSA_0(policy, n_samps, alpha = 0.1, gamma = 0.9, action_index = {'u':0, 'd':1, 'l':2, 'r':3}):\n",
    "    \"\"\"\n",
    "    Function for TD(0) policy evalutation\n",
    "    \"\"\"\n",
    "    \n",
    "    ## Find the starting state\n",
    "    n_states = len(policy)\n",
    "    current_state, action, s_prime, reward, terminal = new_episode(n_states, policy)\n",
    "    action_idx = action_index[action]\n",
    "    \n",
    "    ## Array for state values\n",
    "    q = np.zeros((n_states, len(policy[0])))\n",
    "    \n",
    "    for _ in range(n_samps):\n",
    "        ## Find the next action and reward\n",
    "        action_prime, s_prime_prime, reward_prime, terminal_prime = take_action(s_prime, policy)\n",
    "        action_idx_prime = action_index[action_prime]\n",
    "        ## Compute the TD error\n",
    "        delta = reward + gamma*q[s_prime, action_idx_prime] - q[current_state, action_idx]\n",
    "        ## Update the action values\n",
    "        q[current_state, action_idx] = q[current_state, action_idx] + alpha*delta\n",
    "        ## Update the state, action and reward for the next time step\n",
    "        current_state = s_prime\n",
    "        s_prime = s_prime_prime\n",
    "        action = action_prime\n",
    "        reward = reward_prime\n",
    "        terminal = terminal_prime\n",
    "        action_idx = action_idx_prime\n",
    "\n",
    "        ## Check if end of episode\n",
    "        if(terminal): \n",
    "            ## start new episode\n",
    "            current_state, action, s_prime, reward, terminal = new_episode(n_states, policy)        \n",
    "    return(q)\n",
    "\n",
    "\n",
    "Q = SARSA_0(initial_policy, 1000, alpha = 0.2, gamma = 0.1)\n",
    "print_Q(Q)"
   ]
  },
  {
   "cell_type": "markdown",
   "metadata": {},
   "source": [
    "Examine the action values you have computed. Ensure that the action values are 0 for the goal and taboo states. Also check that the actions with the largest values for each state make sense in terms of reaching the goal. "
   ]
  },
  {
   "cell_type": "markdown",
   "metadata": {},
   "source": [
    "With the action value function completed, you will now create and test code to perform GPI with SARSA(0).  You are welcome to use the `SRASA_0_GPI` function from the TD/Q-learning notebook as a starting point. \n",
    "\n",
    "Execute your code for 10 cycles of 100 episodes, with $\\alpha = 0.2$, $\\gamma = 0.9$ and $\\epsilon = 0.01$, and examine the results."
   ]
  },
  {
   "cell_type": "code",
   "execution_count": 8,
   "metadata": {},
   "outputs": [
    {
     "name": "stdout",
     "output_type": "stream",
     "text": [
      "{'u': 0.25, 'd': 0.25, 'l': 0.25, 'r': 0.25}\n",
      "{'u': 0.25, 'd': 0.25, 'l': 0.25, 'r': 0.25}\n",
      "{'u': 0.25, 'd': 0.25, 'l': 0.25, 'r': 0.25}\n",
      "{'u': 0.25, 'd': 0.25, 'l': 0.25, 'r': 0.25}\n",
      "{'u': 0.33, 'd': 0.33, 'l': 0.33, 'r': 0.01}\n",
      "{'u': 0.25, 'd': 0.25, 'l': 0.25, 'r': 0.25}\n",
      "{'u': 0.25, 'd': 0.25, 'l': 0.25, 'r': 0.25}\n",
      "{'u': 0.25, 'd': 0.25, 'l': 0.25, 'r': 0.25}\n",
      "{'u': 0.25, 'd': 0.25, 'l': 0.25, 'r': 0.25}\n",
      "{'u': 0.97, 'd': 0.01, 'l': 0.01, 'r': 0.01}\n",
      "{'u': 0.49, 'd': 0.49, 'l': 0.01, 'r': 0.01}\n",
      "{'u': 0.25, 'd': 0.25, 'l': 0.25, 'r': 0.25}\n",
      "{'u': 0.25, 'd': 0.25, 'l': 0.25, 'r': 0.25}\n",
      "{'u': 0.25, 'd': 0.25, 'l': 0.25, 'r': 0.25}\n",
      "{'u': 0.01, 'd': 0.01, 'l': 0.97, 'r': 0.01}\n",
      "{'u': 0.25, 'd': 0.25, 'l': 0.25, 'r': 0.25}\n",
      "{'u': 0.25, 'd': 0.25, 'l': 0.25, 'r': 0.25}\n",
      "{'u': 0.25, 'd': 0.25, 'l': 0.25, 'r': 0.25}\n",
      "{'u': 0.25, 'd': 0.25, 'l': 0.25, 'r': 0.25}\n",
      "{'u': 0.01, 'd': 0.97, 'l': 0.01, 'r': 0.01}\n",
      "{'u': 0.25, 'd': 0.25, 'l': 0.25, 'r': 0.25}\n",
      "{'u': 0.25, 'd': 0.25, 'l': 0.25, 'r': 0.25}\n",
      "{'u': 0.25, 'd': 0.25, 'l': 0.25, 'r': 0.25}\n",
      "{'u': 0.25, 'd': 0.25, 'l': 0.25, 'r': 0.25}\n",
      "{'u': 0.25, 'd': 0.25, 'l': 0.25, 'r': 0.25}\n"
     ]
    }
   ],
   "source": [
    "def update_policy(policy, Q, epsilon, action_index = {'u':0, 'd':1, 'l':2, 'r':3}):\n",
    "    '''Updates the policy based on estiamtes of Q using \n",
    "    an epslion greedy algorithm. The action with the highest\n",
    "    action value is used.'''\n",
    "    \n",
    "    ## Find the keys for the actions in the policy\n",
    "    keys = list(policy[0].keys())\n",
    "    \n",
    "    ## Iterate over the states and find the maximm action value.\n",
    "    for state in range(len(policy)):\n",
    "        ## First find the index of the max Q values  \n",
    "        q = Q[state,:]\n",
    "        max_action_index = np.where(q == max(q))[0]\n",
    "\n",
    "        ## Find the probabilities for the transitions\n",
    "        n_transitions = float(len(q))\n",
    "        n_max_transitions = float(len(max_action_index))\n",
    "        p_max_transitions = (1.0 - epsilon *(n_transitions - n_max_transitions))/(n_max_transitions)\n",
    "  \n",
    "        ## Now assign the probabilities to the policy as epsilon greedy.\n",
    "        for key in keys:\n",
    "            if(action_index[key] in max_action_index): policy[state][key] = p_max_transitions\n",
    "            else: policy[state][key] = epsilon\n",
    "    return(policy) \n",
    "\n",
    "\n",
    "def SARSA_GPI(policy, n_samples, n_cycles, epsilon = 0.01, n_actions = 4):\n",
    "    '''Function perfoms GPI using Monte Carlo value estimation.\n",
    "    Updates to policy are epsilon greedy to prevent the algorithm\n",
    "    from being trapped at some point.'''\n",
    "    Q = np.zeros((len(policy), n_actions))\n",
    "    ## Iterate over the required number of cycles\n",
    "    for _ in range(n_cycles):\n",
    "        Q = SARSA_0(policy, n_samples, alpha = 0.2, gamma = 0.9)\n",
    "        policy = update_policy(policy, Q, epsilon = epsilon)\n",
    "    return(policy)\n",
    "\n",
    "improved_policy = SARSA_GPI(initial_policy, 100, 10, epsilon = 0.01)  \n",
    "for state in range(25):\n",
    "    print(improved_policy[state])"
   ]
  },
  {
   "cell_type": "markdown",
   "metadata": {},
   "source": [
    "Verify that your results make sense? For example, starting at state 2 or 22, do the most probable actions follow a shortest path?\n",
    "\n",
    "ANS: Yes"
   ]
  },
  {
   "cell_type": "markdown",
   "metadata": {},
   "source": [
    "## Apply Double Q-Learning\n",
    "\n",
    "As a next step, you will apply Double Q-learning(0) to the warehouse navigation problem. In the cell below create and test a function to perform Double Q-Learning for this problem. You are welcome to use the `double_Q_learning` function from the TD/Q-learning notebook as a starting point.\n",
    "\n",
    "Execute your code for 10 cycles of 500 episodes, with $\\alpha = 0.2$, and $\\gamma = 0.9$ and examine the results."
   ]
  },
  {
   "cell_type": "code",
   "execution_count": 9,
   "metadata": {
    "scrolled": false
   },
   "outputs": [
    {
     "name": "stdout",
     "output_type": "stream",
     "text": [
      "          up      down       left      right\n",
      "0   1.074551  6.393472   1.311252   4.115865\n",
      "1   1.434339 -0.230652   4.763815   3.889472\n",
      "2   1.314341 -0.274580   4.286845   4.446001\n",
      "3   0.548085 -0.107054   3.950863   4.644905\n",
      "4   0.477104  5.588211   4.313492   0.689493\n",
      "5   4.766605  8.851764  -0.269621   2.346641\n",
      "6   0.000000  0.000000   0.000000   0.000000\n",
      "7   0.000000  0.000000   0.000000   0.000000\n",
      "8   0.000000  0.000000   0.000000   0.000000\n",
      "9   4.423793  5.708195   0.890611  -0.137103\n",
      "10  5.830583  5.760038   4.218673  11.856163\n",
      "11  1.799730  6.135114   2.388766  11.111094\n",
      "12  0.000000  0.000000   0.000000   0.000000\n",
      "13  7.142131  5.683015  10.833461   0.545310\n",
      "14  5.488866  5.423136  10.879625   1.579511\n",
      "15  6.306114  4.339178   0.922682   1.621455\n",
      "16  0.000000  0.000000   0.000000   0.000000\n",
      "17  0.000000  0.000000   0.000000   0.000000\n",
      "18  0.000000  0.000000   0.000000   0.000000\n",
      "19  8.065667  3.502538   0.596186   0.198271\n",
      "20  5.694021  0.497408   2.378138   4.029940\n",
      "21  1.004680  0.563591   5.298617   3.362937\n",
      "22 -0.069709  0.543997   4.440012   4.091133\n",
      "23 -0.396069 -0.077660   3.391666   3.926474\n",
      "24  4.883555 -0.100171   3.948241   0.551135\n"
     ]
    }
   ],
   "source": [
    "def action_lookup(index):\n",
    "    \"\"\"Helper function returns action given an index\"\"\"\n",
    "    action_dic = {0:'u', 1:'d', 2:'l', 3:'r'}\n",
    "    return action_dic[index]\n",
    "\n",
    "\n",
    "def simulate_environment_q(s, action, neighbors = neighbors, rewards = rewards, terminal = 12):\n",
    "    \"\"\"\n",
    "    Function simulates the environment for Q-learning.\n",
    "    returns s_prime and reward given s and action\n",
    "    \"\"\"\n",
    "    s_prime = neighbors[s][action]        \n",
    "    reward_prime = np.array([rewards[s_prime][a] for a in rewards[0].keys()])\n",
    "    if s_prime in taboo_states:\n",
    "        return (s, reward_prime, is_terminal(s, terminal))\n",
    "    return (s_prime, reward_prime, is_terminal(s_prime, terminal))\n",
    "\n",
    "def start_episode_q(n_states, n_actions):\n",
    "    '''Function to find a random starting values for the episode\n",
    "    that is not the terminal state'''\n",
    "    state = nr.choice(range(n_states))\n",
    "    while(is_terminal(state) or state in taboo_states):  ## Make sure not starting at the terminal state\n",
    "         state = nr.choice(range(n_states))\n",
    "    ## Now find a random starting action index\n",
    "    a_index = nr.choice(range(4), size = 1)[0]\n",
    "    s_prime, reward, terminal = simulate_environment_q(state, action_lookup(a_index))\n",
    "    return state, a_index, reward[a_index] ## action_lookup(a_index), reward[a_index]\n",
    "\n",
    "def update_double_Q(q1, q2, current_state, a_index, reward, alpha, gamma):\n",
    "    \"\"\"Function to update the actions values in the Q matrix\"\"\"\n",
    "    ## Get s_prime given s and a\n",
    "    s_prime, reward_prime, terminal = simulate_environment_q(current_state, action_lookup(a_index))\n",
    "    a_prime_index = nr.choice(np.where(reward_prime == max(reward_prime))[0], size = 1)[0]\n",
    "    ## Update the action values \n",
    "    q1[current_state,a_index] = q1[current_state,a_index] + alpha * (reward + gamma * (q2[s_prime,a_prime_index] - q1[current_state,a_index]))\n",
    "    return q1, s_prime, reward_prime, terminal, a_prime_index\n",
    "\n",
    "\n",
    "def double_Q_learning_0(policy, episodes, alpha = 0.2, gamma = 0.9):\n",
    "    \"\"\"\n",
    "    Function to perform Q-learning(0) control policy improvement.\n",
    "    \"\"\"\n",
    "    ## Initialize the state list and action values\n",
    "    states = list(policy.keys())\n",
    "    n_states = len(states)\n",
    "    n_actions = len(policy[0].keys())\n",
    "    \n",
    "    ## Initialize both Q matricies\n",
    "    Q1 = np.zeros((n_states,n_actions))\n",
    "    Q2 = np.zeros((n_states,n_actions))\n",
    "    \n",
    "    for _ in range(episodes): # Loop over the episodes\n",
    "        terminal = False\n",
    "        ## Find the inital state, action index and reward\n",
    "        current_state, a_index, reward = start_episode_q(n_states,n_actions)\n",
    "        \n",
    "        while(not terminal): # Episode ends where get to terminal state   \n",
    "            ## Update the action values in Q1 or Q2 based on random choice\n",
    "            if(nr.uniform() <= 0.5):\n",
    "                Q1, s_prime, reward_prime, terminal, a_prime_index = update_double_Q(Q1, Q2, current_state, a_index, reward, alpha, gamma)\n",
    "            else:\n",
    "                Q2, s_prime, reward_prime, terminal, a_prime_index = update_double_Q(Q2, Q1, current_state, a_index, reward, alpha, gamma)\n",
    "            ## Set action, reward and state for next iteration\n",
    "            a_index = a_prime_index\n",
    "            current_state = s_prime\n",
    "            reward = reward_prime[a_prime_index]\n",
    "    return(Q1)\n",
    "\n",
    "Q_ = double_Q_learning_0(initial_policy, 500)\n",
    "print_Q(Q_)"
   ]
  },
  {
   "cell_type": "markdown",
   "metadata": {},
   "source": [
    "Examine the action values you have computed. Ensure that the action values are 0 for the goal and taboo states. Also check that the actions with the largest values for each state make sense in terms of reaching the goal. "
   ]
  },
  {
   "cell_type": "markdown",
   "metadata": {},
   "source": [
    "With the action value function completed, you will now create and test code to perform GPI with Double Q-Learning(0).  You are welcome to use the `double_Q_learning_0_GPI` function from the TD/Q-learning notebook as a starting point. \n",
    "\n",
    "Execute your code for 10 cycles of 500 episodes, with $\\alpha = 0.2$, $\\gamma = 0.9$ and $\\epsilon = 0.01$, and examine the results. "
   ]
  },
  {
   "cell_type": "code",
   "execution_count": 10,
   "metadata": {},
   "outputs": [
    {
     "name": "stdout",
     "output_type": "stream",
     "text": [
      "{0: {'u': 0.01, 'd': 0.76, 'l': 0.01, 'r': 0.01}, 1: {'u': 0.01, 'd': 0.01, 'l': 0.76, 'r': 0.01}, 2: {'u': 0.01, 'd': 0.01, 'l': 0.01, 'r': 0.76}, 3: {'u': 0.01, 'd': 0.01, 'l': 0.01, 'r': 0.76}, 4: {'u': 0.01, 'd': 0.76, 'l': 0.01, 'r': 0.01}, 5: {'u': 0.01, 'd': 0.76, 'l': 0.01, 'r': 0.01}, 6: {'u': 0.04000000000000001, 'd': 0.04000000000000001, 'l': 0.04000000000000001, 'r': 0.04000000000000001}, 7: {'u': 0.04000000000000001, 'd': 0.04000000000000001, 'l': 0.04000000000000001, 'r': 0.04000000000000001}, 8: {'u': 0.04000000000000001, 'd': 0.04000000000000001, 'l': 0.04000000000000001, 'r': 0.04000000000000001}, 9: {'u': 0.01, 'd': 0.76, 'l': 0.01, 'r': 0.01}, 10: {'u': 0.01, 'd': 0.01, 'l': 0.01, 'r': 0.76}, 11: {'u': 0.01, 'd': 0.01, 'l': 0.01, 'r': 0.76}, 12: {'u': 0.04000000000000001, 'd': 0.04000000000000001, 'l': 0.04000000000000001, 'r': 0.04000000000000001}, 13: {'u': 0.01, 'd': 0.01, 'l': 0.76, 'r': 0.01}, 14: {'u': 0.01, 'd': 0.01, 'l': 0.76, 'r': 0.01}, 15: {'u': 0.76, 'd': 0.01, 'l': 0.01, 'r': 0.01}, 16: {'u': 0.04000000000000001, 'd': 0.04000000000000001, 'l': 0.04000000000000001, 'r': 0.04000000000000001}, 17: {'u': 0.04000000000000001, 'd': 0.04000000000000001, 'l': 0.04000000000000001, 'r': 0.04000000000000001}, 18: {'u': 0.04000000000000001, 'd': 0.04000000000000001, 'l': 0.04000000000000001, 'r': 0.04000000000000001}, 19: {'u': 0.76, 'd': 0.01, 'l': 0.01, 'r': 0.01}, 20: {'u': 0.76, 'd': 0.01, 'l': 0.01, 'r': 0.01}, 21: {'u': 0.01, 'd': 0.01, 'l': 0.76, 'r': 0.01}, 22: {'u': 0.01, 'd': 0.01, 'l': 0.01, 'r': 0.76}, 23: {'u': 0.01, 'd': 0.01, 'l': 0.01, 'r': 0.76}, 24: {'u': 0.76, 'd': 0.01, 'l': 0.01, 'r': 0.01}}\n"
     ]
    }
   ],
   "source": [
    "import copy\n",
    "\n",
    "def double_Q_learning_0_GPI(policy, neighbors, reward, cycles, episodes, goal, alpha = 0.2, gamma = 0.9, epsilon = 0.1):\n",
    "    ## iterate over GPI cycles\n",
    "    current_policy = copy.deepcopy(policy)\n",
    "    for _ in range(cycles):\n",
    "        ## Evaluate policy with SARSA\n",
    "        Q = double_Q_learning_0(policy, episodes, alpha, gamma)\n",
    "        \n",
    "        for s in list(current_policy.keys()): # iterate over all states\n",
    "            ## Find the index action with the largest Q values \n",
    "            ## May be more than one. \n",
    "            max_index = np.where(Q[s,:] == max(Q[s,:]))[0]\n",
    "\n",
    "            ## Probabilities of transition\n",
    "            ## Need to allow for further exploration so don't let any \n",
    "            ## transition probability be 0.\n",
    "            ## Some gymnastics are required to ensure that the probabilities \n",
    "            ## over the transistions actual add to exactly 1.0\n",
    "            neighbors_len = float(Q.shape[0])\n",
    "            max_len = float(len(max_index))\n",
    "            diff = round(neighbors_len - max_len,3)\n",
    "            prob_for_policy = round(1.0/max_len,3)\n",
    "            adjust = round((epsilon * (diff)), 3)\n",
    "            prob_for_policy = prob_for_policy - adjust\n",
    "            if(diff != 0.0):\n",
    "                remainder = (1.0 - max_len * prob_for_policy)/diff\n",
    "            else:\n",
    "                remainder = epsilon\n",
    "                                                 \n",
    "            for i, key in enumerate(current_policy[s]): ## Update policy\n",
    "                if(i in max_index): current_policy[s][key] = prob_for_policy\n",
    "                else: current_policy[s][key] = remainder   \n",
    "                    \n",
    "    return(current_policy)                    \n",
    " \n",
    "\n",
    "Double_Q_0_Policy = double_Q_learning_0_GPI(initial_policy, neighbors, rewards, cycles = 10, episodes = 500, goal = 12, alpha = 0.2, epsilon = 0.01)\n",
    "print(Double_Q_0_Policy)"
   ]
  },
  {
   "cell_type": "markdown",
   "metadata": {},
   "source": [
    "Verify that your results make sense? For example, starting at state 2 or 22, do the most probable actions follow a shortest path?\n",
    "\n",
    "ANS: Yes"
   ]
  },
  {
   "cell_type": "markdown",
   "metadata": {},
   "source": [
    "## N-Step TD Learning\n",
    "\n",
    "Finally, you will apply N-Step TD learning and N-Step SARSA to the warehouse navigation problem.  First create a function to perform N-step TD policy evaluation. You are welcome to start with the `TD_n` policy evaluation function from the TD/Q-Learning notebook. \n",
    "\n",
    "Test your function using 1,000 episodes, $n = 4$, $\\gamma = 0.9$, and $\\alpha = 0.2$."
   ]
  },
  {
   "cell_type": "code",
   "execution_count": 13,
   "metadata": {},
   "outputs": [
    {
     "data": {
      "text/plain": [
       "array([[-2.76881266e-04, -3.99686431e-04, -8.09754984e-04,\n",
       "        -2.33683905e-03, -8.67719338e-03],\n",
       "       [-2.74633649e-04,  0.00000000e+00,  0.00000000e+00,\n",
       "         0.00000000e+00, -2.55590876e-02],\n",
       "       [-1.13231224e-04, -2.30275686e-03,  0.00000000e+00,\n",
       "         1.30343423e-02,  5.38239667e-02],\n",
       "       [-1.23708298e-04,  0.00000000e+00,  0.00000000e+00,\n",
       "         0.00000000e+00, -5.32907519e-02],\n",
       "       [-6.75005319e-03, -3.40951973e-02, -1.64927121e-01,\n",
       "        -1.08020006e-01, -3.97212532e-02]])"
      ]
     },
     "execution_count": 13,
     "metadata": {},
     "output_type": "execute_result"
    }
   ],
   "source": [
    "def TD_n(policy, episodes, n, alpha = 0.2, gamma = 0.9, epsilon = 0.1, action_index = {'u':0, 'd':1, 'l':2, 'r':3}):\n",
    "    \"\"\"\n",
    "    Function to perform TD(N) policy evaluation.\n",
    "    \"\"\"\n",
    "    ## Initialize the state list and action values\n",
    "    # action_index = list(range(len(list(policy[0].keys()))))\n",
    "    states = list(policy.keys())\n",
    "    n_states = len(states)\n",
    "    n_actions = len(policy[0].keys())\n",
    "    v = np.zeros((n_states))\n",
    "    \n",
    "    for _ in range(episodes):\n",
    "        ## Initialize variables\n",
    "        T = float(\"inf\")\n",
    "        tau = 0\n",
    "        t = 0\n",
    "        rewards = []\n",
    "       \n",
    "        ## Get the random initial state\n",
    "        current_state = start_episode(n_states)   \n",
    "        state = [current_state]\n",
    "        ## Initial action\n",
    "        action, s_prime, reward, terminal = take_action(current_state, policy)\n",
    "        state.append(s_prime)\n",
    "        \n",
    "        while(not (tau == T - 1)):\n",
    "            if(t < T):\n",
    "                ## Append the reward to the list\n",
    "                rewards.append(reward)             \n",
    "                if(terminal): \n",
    "                    ## update T if at terminal state\n",
    "                    T = t + 1\n",
    "                else: \n",
    "                    ## Get the next action state and rewards\n",
    "                    action_prime, s_prime_prime, reward_prime, terminal_prime = take_action(current_state, policy)\n",
    "                    state.append(s_prime_prime)\n",
    "                      \n",
    "            ## Update tau\n",
    "            tau = t - n + 1\n",
    "            \n",
    "            if(tau > 0):\n",
    "                G = 0.0\n",
    "                for i in range(tau + 1, min(tau + n, T)):\n",
    "                    exponent = i + tau - 1\n",
    "                    G = G + gamma**exponent * rewards[i]\n",
    "                if(tau + n < T): G += gamma**n * v[state[tau + n]] \n",
    "                v[state[tau]] = v[state[tau]] + alpha * (G - v[state[tau]])    \n",
    "                \n",
    "            \n",
    "            ## Update variables for the next step\n",
    "            t += 1\n",
    "            current_state = s_prime\n",
    "\n",
    "            if(not terminal):\n",
    "                action = action_prime\n",
    "                s_prime = s_prime_prime\n",
    "                reward = reward_prime\n",
    "                terminal = terminal_prime\n",
    "    return(v)     \n",
    "\n",
    "TD_n(initial_policy, 1000, 4).reshape((5,5))"
   ]
  },
  {
   "cell_type": "markdown",
   "metadata": {},
   "source": [
    "Verify that the result you obtained appears correct. Are the values of the goal and taboo states all 0? Do the state values decrease with distance from the goal? Yes"
   ]
  },
  {
   "cell_type": "markdown",
   "metadata": {},
   "source": [
    "Now that you have an estimate of the best values for the number of steps and the learning rate you can compute the action values using multi-step SARSA. In the cell below, create and test a function to compute the action values using N-step SARSA. You are welcome to use the `SRARSA_n` function from the TD/Q-learning notebook as a starting point. \n",
    "\n",
    "Test your function by executing 4-step SARSA for 1,000 episodes with $\\alpha = 0.2$ and $\\gamma = 0.9$ and using the optimum number of steps and learning rate you have determined. "
   ]
  },
  {
   "cell_type": "code",
   "execution_count": 16,
   "metadata": {},
   "outputs": [
    {
     "name": "stdout",
     "output_type": "stream",
     "text": [
      "          up      down      left     right\n",
      "0  -0.022118 -0.014131 -0.024308 -0.025394\n",
      "1  -0.021567 -0.017823 -0.018544 -0.024287\n",
      "2  -0.025851 -0.019119 -0.020298 -0.009010\n",
      "3  -0.008256 -0.008216 -0.021135 -0.004191\n",
      "4  -0.007465 -0.008087 -0.015527 -0.006827\n",
      "5  -0.021421 -0.009458 -0.025437 -0.015158\n",
      "6   0.000000  0.000000  0.000000  0.000000\n",
      "7   0.000000  0.000000  0.000000  0.000000\n",
      "8   0.000000  0.000000  0.000000  0.000000\n",
      "9  -0.007061 -0.002219 -0.008068 -0.003262\n",
      "10 -0.015452 -0.002098 -0.003754 -0.008367\n",
      "11 -0.005239 -0.005189 -0.011692  0.065345\n",
      "12  0.000000  0.000000  0.000000  0.000000\n",
      "13 -0.079683 -0.074639  0.082011 -0.012479\n",
      "14 -0.030278 -0.008845  0.116296 -0.022869\n",
      "15 -0.010180 -0.002362 -0.001154 -0.001242\n",
      "16  0.000000  0.000000  0.000000  0.000000\n",
      "17  0.000000  0.000000  0.000000  0.000000\n",
      "18  0.000000  0.000000  0.000000  0.000000\n",
      "19 -0.008601 -0.004456 -0.007046 -0.006806\n",
      "20 -0.001993 -0.001157 -0.001529 -0.002660\n",
      "21 -0.001263 -0.001314 -0.000855 -0.003512\n",
      "22 -0.002064 -0.002388 -0.001415 -0.002914\n",
      "23 -0.004294 -0.002002 -0.001778 -0.002566\n",
      "24 -0.004335 -0.002014 -0.002261 -0.002025\n"
     ]
    }
   ],
   "source": [
    "def SARSA_n(policy, episodes, n, alpha = 0.2, gamma = 0.9, epsilon = 0.1, action_index = {'u':0, 'd':1, 'l':2, 'r':3}):\n",
    "    \"\"\"\n",
    "    Function to perform TD(N) policy evaluation.\n",
    "    \"\"\"\n",
    "    ## Initialize the state list and action values\n",
    "#     action_index = list(range(len(list(policy[0].keys()))))\n",
    "    states = list(policy.keys())\n",
    "    n_states = len(states)\n",
    "    n_actions = len(policy[0].keys())\n",
    "    q = np.zeros((n_states, n_actions))\n",
    "    \n",
    "    for _ in range(episodes):\n",
    "        ## Initialize variables\n",
    "        T = float(\"inf\")\n",
    "        tau = 0\n",
    "        t = 0\n",
    "        rewards = []\n",
    "       \n",
    "        ## Get the random initial state\n",
    "        current_state = start_episode(n_states)   \n",
    "        state = [current_state]\n",
    "        ## Initial action\n",
    "        action, s_prime, reward, terminal = take_action(current_state, policy)\n",
    "        state.append(s_prime)\n",
    "        \n",
    "        while(not (tau == T - 1)):\n",
    "            if(t < T):\n",
    "                ## Append the reward to the list\n",
    "                rewards.append(reward)             \n",
    "                if(terminal): \n",
    "                    ## update T if at terminal state\n",
    "                    T = t + 1\n",
    "                else: \n",
    "                    ## Get the next action state and rewards\n",
    "                    action_prime, s_prime_prime, reward_prime, terminal_prime = take_action(current_state, policy)\n",
    "                    state.append(s_prime_prime)\n",
    "                      \n",
    "            ## Update tau\n",
    "            tau = t - n + 1\n",
    "            \n",
    "            if(tau > 0):\n",
    "                G = 0.0\n",
    "                for i in range(tau + 1, min(tau + n, T)):\n",
    "                    exponent = i + tau - 1\n",
    "                    G = G + gamma**exponent * rewards[i]\n",
    "                if(tau + n < T):\n",
    "                    G += gamma**n * q[state[tau + n], action_index[action_prime]] \n",
    "                q[state[tau], action_index[action]] = q[state[tau], action_index[action]] + alpha * (G - q[state[tau], action_index[action]])    \n",
    "                \n",
    "            \n",
    "            ## Update variables for the next step\n",
    "            t += 1\n",
    "            current_state = s_prime\n",
    "            if(not terminal):\n",
    "                action = action_prime\n",
    "                s_prime = s_prime_prime\n",
    "                reward = reward_prime\n",
    "                terminal = terminal_prime\n",
    "    return(q)              \n",
    "            \n",
    "Q = SARSA_n(initial_policy, 1000, 4)\n",
    "print_Q(Q)"
   ]
  },
  {
   "cell_type": "markdown",
   "metadata": {},
   "source": [
    "Verify that the results you have computed appear correct using the aforementioned criteria. \n",
    "\n",
    "Finally, create a function to use the GPI algorithm with N-step SARSA in the cell below. You are welcome to start with the `SARSA_n_GPI` function from the TD/Q-learning notebook. \n",
    "\n",
    "Execute your function using 4 step SARSA for 5 cycles of 500 episodes, with $\\alpha = 0.2$, $\\epsilon = 0.1$, and $\\gamma = 0.9$."
   ]
  },
  {
   "cell_type": "code",
   "execution_count": null,
   "metadata": {},
   "outputs": [],
   "source": [
    "import copy\n",
    "\n",
    "def SARSA_n_GPI(policy, n, cycles, episodes, alpha = 0.2, gamma = 0.9, epsilon = 0.1):\n",
    "    ## iterate over GPI cycles\n",
    "    current_policy = copy.deepcopy(policy)\n",
    "    for _ in range(cycles):\n",
    "        ## Evaluate policy with SARSA\n",
    "        Q = SARSA_n(policy, episodes, n, alpha, gamma, epsilon)\n",
    "\n",
    "        for s in list(current_policy.keys()): # iterate over all states\n",
    "            ## Find the index action with the largest Q values \n",
    "            ## May be more than one. \n",
    "            max_index = np.where(Q[s,:] == max(Q[s,:]))[0]\n",
    "            \n",
    "            ## Probabilities of transition\n",
    "            ## Need to allow for further exploration so don't let any \n",
    "            ## transition probability be 0.\n",
    "            ## Some gymnastics are required to ensure that the probabilities \n",
    "            ## over the transistions actual add to exactly 1.0\n",
    "            neighbors_len = float(Q.shape[0])\n",
    "            max_len = float(len(max_index))\n",
    "            diff = round(neighbors_len - max_len,3)\n",
    "            prob_for_policy = round(1.0/max_len,3)\n",
    "            adjust = round((epsilon * (diff)), 3)\n",
    "            prob_for_policy = prob_for_policy - adjust\n",
    "            if(diff != 0.0):\n",
    "                remainder = (1.0 - max_len * prob_for_policy)/diff\n",
    "            else:\n",
    "                remainder = epsilon\n",
    "                                                 \n",
    "            for i, key in enumerate(current_policy[s]): ## Update policy\n",
    "                if(i in max_index): current_policy[s][key] = prob_for_policy\n",
    "                else: current_policy[s][key] = remainder   \n",
    "                    \n",
    "    return(current_policy)                    \n",
    "\n",
    "SARSA_N_Policy = SARSA_n_GPI(initial_policy, 4, 5, 500, 0.2, 0.9, 0.1)\n",
    "print(SARSA_N_Policy)"
   ]
  },
  {
   "cell_type": "markdown",
   "metadata": {},
   "source": [
    "Examine your results. Verify that the most probable paths to the goal from states 2 and 22 are the shortest possible.  "
   ]
  },
  {
   "cell_type": "code",
   "execution_count": null,
   "metadata": {},
   "outputs": [],
   "source": []
  }
 ],
 "metadata": {
  "kernelspec": {
   "display_name": "Python 3",
   "language": "python",
   "name": "python3"
  },
  "language_info": {
   "codemirror_mode": {
    "name": "ipython",
    "version": 3
   },
   "file_extension": ".py",
   "mimetype": "text/x-python",
   "name": "python",
   "nbconvert_exporter": "python",
   "pygments_lexer": "ipython3",
   "version": "3.7.1"
  }
 },
 "nbformat": 4,
 "nbformat_minor": 2
}
